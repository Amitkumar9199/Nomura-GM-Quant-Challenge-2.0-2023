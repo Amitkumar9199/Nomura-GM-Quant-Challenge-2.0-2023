{
 "cells": [
  {
   "cell_type": "markdown",
   "metadata": {},
   "source": [
    "# Prediction of White player winning probability"
   ]
  },
  {
   "cell_type": "code",
   "execution_count": null,
   "metadata": {},
   "outputs": [],
   "source": []
  },
  {
   "cell_type": "markdown",
   "metadata": {},
   "source": [
    "Prediction of White player winning probability using 10 classification model and comparing the performance of all these models and select the best one according the F1 score and AUC score "
   ]
  },
  {
   "cell_type": "code",
   "execution_count": 76,
   "metadata": {},
   "outputs": [],
   "source": [
    "#import libraries\n",
    "import pandas as pd\n",
    "import numpy as np\n",
    "import matplotlib.pyplot as plt\n",
    "plt.rcParams.update({'figure.figsize':(12,8), 'figure.dpi':100})\n",
    "import seaborn as sns \n",
    "\n",
    "\n",
    "from sklearn.linear_model import LogisticRegression\n",
    "from sklearn.neighbors import KNeighborsClassifier\n",
    "from sklearn.naive_bayes import GaussianNB\n",
    "from sklearn.svm import SVC\n",
    "from sklearn.tree import DecisionTreeClassifier\n",
    "from sklearn.ensemble import RandomForestClassifier\n",
    "from sklearn.ensemble import AdaBoostClassifier\n",
    "# from catboost import CatBoostClassifier\n",
    "from xgboost import XGBClassifier\n",
    "from lightgbm import LGBMClassifier\n",
    "\n",
    "\n",
    "from sklearn.model_selection import GridSearchCV\n",
    "from sklearn.metrics import classification_report\n",
    "from sklearn.metrics import accuracy_score, precision_score, recall_score, f1_score, confusion_matrix"
   ]
  },
  {
   "cell_type": "code",
   "execution_count": 77,
   "metadata": {},
   "outputs": [],
   "source": [
    "#Load dataset\n",
    "df = pd.read_csv('train_data.csv')"
   ]
  },
  {
   "cell_type": "code",
   "execution_count": 78,
   "metadata": {
    "scrolled": true
   },
   "outputs": [
    {
     "data": {
      "text/html": [
       "<div>\n",
       "<style scoped>\n",
       "    .dataframe tbody tr th:only-of-type {\n",
       "        vertical-align: middle;\n",
       "    }\n",
       "\n",
       "    .dataframe tbody tr th {\n",
       "        vertical-align: top;\n",
       "    }\n",
       "\n",
       "    .dataframe thead th {\n",
       "        text-align: right;\n",
       "    }\n",
       "</style>\n",
       "<table border=\"1\" class=\"dataframe\">\n",
       "  <thead>\n",
       "    <tr style=\"text-align: right;\">\n",
       "      <th></th>\n",
       "      <th>MatchID</th>\n",
       "      <th>WhiteElo</th>\n",
       "      <th>BlackElo</th>\n",
       "      <th>ECO</th>\n",
       "      <th>eval</th>\n",
       "      <th>Result</th>\n",
       "    </tr>\n",
       "  </thead>\n",
       "  <tbody>\n",
       "    <tr>\n",
       "      <th>0</th>\n",
       "      <td>1</td>\n",
       "      <td>2569</td>\n",
       "      <td>2462</td>\n",
       "      <td>D12</td>\n",
       "      <td>0.29</td>\n",
       "      <td>1</td>\n",
       "    </tr>\n",
       "    <tr>\n",
       "      <th>1</th>\n",
       "      <td>2</td>\n",
       "      <td>2581</td>\n",
       "      <td>2574</td>\n",
       "      <td>B00</td>\n",
       "      <td>-0.22</td>\n",
       "      <td>0</td>\n",
       "    </tr>\n",
       "    <tr>\n",
       "      <th>2</th>\n",
       "      <td>3</td>\n",
       "      <td>2573</td>\n",
       "      <td>2479</td>\n",
       "      <td>B53</td>\n",
       "      <td>-3.13</td>\n",
       "      <td>0</td>\n",
       "    </tr>\n",
       "    <tr>\n",
       "      <th>3</th>\n",
       "      <td>4</td>\n",
       "      <td>2602</td>\n",
       "      <td>2343</td>\n",
       "      <td>A40</td>\n",
       "      <td>1.00</td>\n",
       "      <td>1</td>\n",
       "    </tr>\n",
       "    <tr>\n",
       "      <th>4</th>\n",
       "      <td>5</td>\n",
       "      <td>2578</td>\n",
       "      <td>2575</td>\n",
       "      <td>C03</td>\n",
       "      <td>0.91</td>\n",
       "      <td>1</td>\n",
       "    </tr>\n",
       "  </tbody>\n",
       "</table>\n",
       "</div>"
      ],
      "text/plain": [
       "   MatchID  WhiteElo  BlackElo  ECO  eval  Result\n",
       "0        1      2569      2462  D12  0.29       1\n",
       "1        2      2581      2574  B00 -0.22       0\n",
       "2        3      2573      2479  B53 -3.13       0\n",
       "3        4      2602      2343  A40  1.00       1\n",
       "4        5      2578      2575  C03  0.91       1"
      ]
     },
     "execution_count": 78,
     "metadata": {},
     "output_type": "execute_result"
    }
   ],
   "source": [
    "#print head in order to have a quick view\n",
    "df.head()"
   ]
  },
  {
   "cell_type": "code",
   "execution_count": 79,
   "metadata": {},
   "outputs": [
    {
     "data": {
      "text/plain": [
       "(10000, 6)"
      ]
     },
     "execution_count": 79,
     "metadata": {},
     "output_type": "execute_result"
    }
   ],
   "source": [
    "#print the shape of data\n",
    "df.shape"
   ]
  },
  {
   "cell_type": "code",
   "execution_count": 80,
   "metadata": {},
   "outputs": [
    {
     "data": {
      "text/plain": [
       "Index(['MatchID', 'WhiteElo', 'BlackElo', 'ECO', 'eval', 'Result'], dtype='object')"
      ]
     },
     "execution_count": 80,
     "metadata": {},
     "output_type": "execute_result"
    }
   ],
   "source": [
    "#Print the columns of dataset\n",
    "df.columns"
   ]
  },
  {
   "cell_type": "code",
   "execution_count": 81,
   "metadata": {},
   "outputs": [
    {
     "data": {
      "text/plain": [
       "MatchID       int64\n",
       "WhiteElo      int64\n",
       "BlackElo      int64\n",
       "ECO          object\n",
       "eval        float64\n",
       "Result        int64\n",
       "dtype: object"
      ]
     },
     "execution_count": 81,
     "metadata": {},
     "output_type": "execute_result"
    }
   ],
   "source": [
    "#lets see the datatypes of features\n",
    "df.dtypes"
   ]
  },
  {
   "cell_type": "markdown",
   "metadata": {},
   "source": [
    "As we can see there is many object types of data "
   ]
  },
  {
   "cell_type": "code",
   "execution_count": 82,
   "metadata": {},
   "outputs": [
    {
     "name": "stdout",
     "output_type": "stream",
     "text": [
      "<class 'pandas.core.frame.DataFrame'>\n",
      "RangeIndex: 10000 entries, 0 to 9999\n",
      "Data columns (total 6 columns):\n",
      " #   Column    Non-Null Count  Dtype  \n",
      "---  ------    --------------  -----  \n",
      " 0   MatchID   10000 non-null  int64  \n",
      " 1   WhiteElo  10000 non-null  int64  \n",
      " 2   BlackElo  10000 non-null  int64  \n",
      " 3   ECO       10000 non-null  object \n",
      " 4   eval      10000 non-null  float64\n",
      " 5   Result    10000 non-null  int64  \n",
      "dtypes: float64(1), int64(4), object(1)\n",
      "memory usage: 468.9+ KB\n"
     ]
    }
   ],
   "source": [
    "df.info()"
   ]
  },
  {
   "cell_type": "code",
   "execution_count": 83,
   "metadata": {},
   "outputs": [
    {
     "data": {
      "text/plain": [
       "MatchID     0\n",
       "WhiteElo    0\n",
       "BlackElo    0\n",
       "ECO         0\n",
       "eval        0\n",
       "Result      0\n",
       "dtype: int64"
      ]
     },
     "execution_count": 83,
     "metadata": {},
     "output_type": "execute_result"
    }
   ],
   "source": [
    "# fill nan with mean value\n",
    "df.fillna(df.mean(), inplace=True)\n",
    "# fill na for categorical data\n",
    "df.fillna(df.mode().iloc[0], inplace=True)\n",
    "\n",
    "#check the missing values\n",
    "df.isnull().sum()"
   ]
  },
  {
   "cell_type": "markdown",
   "metadata": {},
   "source": [
    "So, there is no missing values "
   ]
  },
  {
   "cell_type": "code",
   "execution_count": 84,
   "metadata": {},
   "outputs": [
    {
     "data": {
      "text/html": [
       "<div>\n",
       "<style scoped>\n",
       "    .dataframe tbody tr th:only-of-type {\n",
       "        vertical-align: middle;\n",
       "    }\n",
       "\n",
       "    .dataframe tbody tr th {\n",
       "        vertical-align: top;\n",
       "    }\n",
       "\n",
       "    .dataframe thead th {\n",
       "        text-align: right;\n",
       "    }\n",
       "</style>\n",
       "<table border=\"1\" class=\"dataframe\">\n",
       "  <thead>\n",
       "    <tr style=\"text-align: right;\">\n",
       "      <th></th>\n",
       "      <th>count</th>\n",
       "      <th>unique</th>\n",
       "      <th>top</th>\n",
       "      <th>freq</th>\n",
       "      <th>mean</th>\n",
       "      <th>std</th>\n",
       "      <th>min</th>\n",
       "      <th>25%</th>\n",
       "      <th>50%</th>\n",
       "      <th>75%</th>\n",
       "      <th>max</th>\n",
       "    </tr>\n",
       "  </thead>\n",
       "  <tbody>\n",
       "    <tr>\n",
       "      <th>MatchID</th>\n",
       "      <td>10000</td>\n",
       "      <td>NaN</td>\n",
       "      <td>NaN</td>\n",
       "      <td>NaN</td>\n",
       "      <td>5000.5</td>\n",
       "      <td>2886.9</td>\n",
       "      <td>1</td>\n",
       "      <td>2500.75</td>\n",
       "      <td>5000.5</td>\n",
       "      <td>7500.25</td>\n",
       "      <td>10000</td>\n",
       "    </tr>\n",
       "    <tr>\n",
       "      <th>WhiteElo</th>\n",
       "      <td>10000</td>\n",
       "      <td>NaN</td>\n",
       "      <td>NaN</td>\n",
       "      <td>NaN</td>\n",
       "      <td>2553.17</td>\n",
       "      <td>109.183</td>\n",
       "      <td>2300</td>\n",
       "      <td>2496</td>\n",
       "      <td>2539</td>\n",
       "      <td>2608</td>\n",
       "      <td>3157</td>\n",
       "    </tr>\n",
       "    <tr>\n",
       "      <th>BlackElo</th>\n",
       "      <td>10000</td>\n",
       "      <td>NaN</td>\n",
       "      <td>NaN</td>\n",
       "      <td>NaN</td>\n",
       "      <td>2552.93</td>\n",
       "      <td>108.099</td>\n",
       "      <td>2300</td>\n",
       "      <td>2497</td>\n",
       "      <td>2538</td>\n",
       "      <td>2607</td>\n",
       "      <td>3155</td>\n",
       "    </tr>\n",
       "    <tr>\n",
       "      <th>ECO</th>\n",
       "      <td>10000</td>\n",
       "      <td>442</td>\n",
       "      <td>A45</td>\n",
       "      <td>284</td>\n",
       "      <td>NaN</td>\n",
       "      <td>NaN</td>\n",
       "      <td>NaN</td>\n",
       "      <td>NaN</td>\n",
       "      <td>NaN</td>\n",
       "      <td>NaN</td>\n",
       "      <td>NaN</td>\n",
       "    </tr>\n",
       "    <tr>\n",
       "      <th>eval</th>\n",
       "      <td>10000</td>\n",
       "      <td>NaN</td>\n",
       "      <td>NaN</td>\n",
       "      <td>NaN</td>\n",
       "      <td>0.424913</td>\n",
       "      <td>0.844965</td>\n",
       "      <td>-5.86</td>\n",
       "      <td>0.03</td>\n",
       "      <td>0.41</td>\n",
       "      <td>0.79</td>\n",
       "      <td>5.89</td>\n",
       "    </tr>\n",
       "    <tr>\n",
       "      <th>Result</th>\n",
       "      <td>10000</td>\n",
       "      <td>NaN</td>\n",
       "      <td>NaN</td>\n",
       "      <td>NaN</td>\n",
       "      <td>0.526</td>\n",
       "      <td>0.499349</td>\n",
       "      <td>0</td>\n",
       "      <td>0</td>\n",
       "      <td>1</td>\n",
       "      <td>1</td>\n",
       "      <td>1</td>\n",
       "    </tr>\n",
       "  </tbody>\n",
       "</table>\n",
       "</div>"
      ],
      "text/plain": [
       "          count unique  top freq      mean       std   min      25%     50%  \\\n",
       "MatchID   10000    NaN  NaN  NaN    5000.5    2886.9     1  2500.75  5000.5   \n",
       "WhiteElo  10000    NaN  NaN  NaN   2553.17   109.183  2300     2496    2539   \n",
       "BlackElo  10000    NaN  NaN  NaN   2552.93   108.099  2300     2497    2538   \n",
       "ECO       10000    442  A45  284       NaN       NaN   NaN      NaN     NaN   \n",
       "eval      10000    NaN  NaN  NaN  0.424913  0.844965 -5.86     0.03    0.41   \n",
       "Result    10000    NaN  NaN  NaN     0.526  0.499349     0        0       1   \n",
       "\n",
       "              75%    max  \n",
       "MatchID   7500.25  10000  \n",
       "WhiteElo     2608   3157  \n",
       "BlackElo     2607   3155  \n",
       "ECO           NaN    NaN  \n",
       "eval         0.79   5.89  \n",
       "Result          1      1  "
      ]
     },
     "execution_count": 84,
     "metadata": {},
     "output_type": "execute_result"
    }
   ],
   "source": [
    "df.describe(include = 'all').T"
   ]
  },
  {
   "cell_type": "markdown",
   "metadata": {},
   "source": [
    "# I will clean all the columns one by one"
   ]
  },
  {
   "cell_type": "markdown",
   "metadata": {},
   "source": [
    "### first I will drop useless columns "
   ]
  },
  {
   "cell_type": "markdown",
   "metadata": {},
   "source": [
    "I think these two columns does not make sense because if the player started and 13 tuens(I see in turn column for this perticular id) then they should take some time to play but the start and last move time difference is zero, hence for this is not useful for our prediction I will drop it "
   ]
  },
  {
   "cell_type": "markdown",
   "metadata": {},
   "source": [
    "I think black_id, white_id and increment_code is also not usefull so, I will drop it too"
   ]
  },
  {
   "cell_type": "code",
   "execution_count": 85,
   "metadata": {},
   "outputs": [],
   "source": [
    "# df = df.drop(['increment_code', 'white_id', 'black_id', 'difference'], axis =1)"
   ]
  },
  {
   "cell_type": "markdown",
   "metadata": {},
   "source": [
    "## Moves"
   ]
  },
  {
   "cell_type": "markdown",
   "metadata": {},
   "source": [
    "I am going to predict the probability of winning on the basis of first move of the both black and white player. "
   ]
  },
  {
   "cell_type": "code",
   "execution_count": 86,
   "metadata": {},
   "outputs": [],
   "source": [
    "# moves = df.moves.str.split(n=2, expand=True)\n",
    "# moves"
   ]
  },
  {
   "cell_type": "markdown",
   "metadata": {},
   "source": [
    "Splited the moves into three column, first column contains the first move of white player and second column contains the first move of black player and third column contains the rest of the moves which I am not going to consider into my model because it will take more time to do data manipulation I will do it later "
   ]
  },
  {
   "cell_type": "code",
   "execution_count": 87,
   "metadata": {},
   "outputs": [],
   "source": [
    "# df['white_1move'] = moves[0]\n",
    "# df['black_1move']= moves[1]"
   ]
  },
  {
   "cell_type": "code",
   "execution_count": 88,
   "metadata": {},
   "outputs": [
    {
     "data": {
      "text/html": [
       "<div>\n",
       "<style scoped>\n",
       "    .dataframe tbody tr th:only-of-type {\n",
       "        vertical-align: middle;\n",
       "    }\n",
       "\n",
       "    .dataframe tbody tr th {\n",
       "        vertical-align: top;\n",
       "    }\n",
       "\n",
       "    .dataframe thead th {\n",
       "        text-align: right;\n",
       "    }\n",
       "</style>\n",
       "<table border=\"1\" class=\"dataframe\">\n",
       "  <thead>\n",
       "    <tr style=\"text-align: right;\">\n",
       "      <th>Result</th>\n",
       "      <th>0</th>\n",
       "      <th>1</th>\n",
       "    </tr>\n",
       "    <tr>\n",
       "      <th>ECO</th>\n",
       "      <th></th>\n",
       "      <th></th>\n",
       "    </tr>\n",
       "  </thead>\n",
       "  <tbody>\n",
       "    <tr>\n",
       "      <th>A00</th>\n",
       "      <td>0.437500</td>\n",
       "      <td>0.562500</td>\n",
       "    </tr>\n",
       "    <tr>\n",
       "      <th>A01</th>\n",
       "      <td>0.385417</td>\n",
       "      <td>0.614583</td>\n",
       "    </tr>\n",
       "    <tr>\n",
       "      <th>A02</th>\n",
       "      <td>0.390244</td>\n",
       "      <td>0.609756</td>\n",
       "    </tr>\n",
       "    <tr>\n",
       "      <th>A03</th>\n",
       "      <td>0.300000</td>\n",
       "      <td>0.700000</td>\n",
       "    </tr>\n",
       "    <tr>\n",
       "      <th>A04</th>\n",
       "      <td>0.417989</td>\n",
       "      <td>0.582011</td>\n",
       "    </tr>\n",
       "  </tbody>\n",
       "</table>\n",
       "</div>"
      ],
      "text/plain": [
       "Result         0         1\n",
       "ECO                       \n",
       "A00     0.437500  0.562500\n",
       "A01     0.385417  0.614583\n",
       "A02     0.390244  0.609756\n",
       "A03     0.300000  0.700000\n",
       "A04     0.417989  0.582011"
      ]
     },
     "execution_count": 88,
     "metadata": {},
     "output_type": "execute_result"
    }
   ],
   "source": [
    "df_wm = pd.crosstab(df.ECO, columns = df.Result, normalize = 'index')\n",
    "df_wm.head()"
   ]
  },
  {
   "cell_type": "code",
   "execution_count": 89,
   "metadata": {},
   "outputs": [
    {
     "data": {
      "text/plain": [
       "Int64Index([0, 1], dtype='int64', name='Result')"
      ]
     },
     "execution_count": 89,
     "metadata": {},
     "output_type": "execute_result"
    }
   ],
   "source": [
    "df_wm.columns"
   ]
  },
  {
   "cell_type": "code",
   "execution_count": 90,
   "metadata": {},
   "outputs": [
    {
     "ename": "KeyError",
     "evalue": "'0'",
     "output_type": "error",
     "traceback": [
      "\u001b[1;31m---------------------------------------------------------------------------\u001b[0m",
      "\u001b[1;31mKeyError\u001b[0m                                  Traceback (most recent call last)",
      "\u001b[1;32mb:\\Downloads\\2023\\nqc\\lib\\site-packages\\pandas\\core\\indexes\\base.py\u001b[0m in \u001b[0;36mget_loc\u001b[1;34m(self, key, method, tolerance)\u001b[0m\n\u001b[0;32m   2897\u001b[0m             \u001b[1;32mtry\u001b[0m\u001b[1;33m:\u001b[0m\u001b[1;33m\u001b[0m\u001b[1;33m\u001b[0m\u001b[0m\n\u001b[1;32m-> 2898\u001b[1;33m                 \u001b[1;32mreturn\u001b[0m \u001b[0mself\u001b[0m\u001b[1;33m.\u001b[0m\u001b[0m_engine\u001b[0m\u001b[1;33m.\u001b[0m\u001b[0mget_loc\u001b[0m\u001b[1;33m(\u001b[0m\u001b[0mcasted_key\u001b[0m\u001b[1;33m)\u001b[0m\u001b[1;33m\u001b[0m\u001b[1;33m\u001b[0m\u001b[0m\n\u001b[0m\u001b[0;32m   2899\u001b[0m             \u001b[1;32mexcept\u001b[0m \u001b[0mKeyError\u001b[0m \u001b[1;32mas\u001b[0m \u001b[0merr\u001b[0m\u001b[1;33m:\u001b[0m\u001b[1;33m\u001b[0m\u001b[1;33m\u001b[0m\u001b[0m\n",
      "\u001b[1;32mpandas\\_libs\\index.pyx\u001b[0m in \u001b[0;36mpandas._libs.index.IndexEngine.get_loc\u001b[1;34m()\u001b[0m\n",
      "\u001b[1;32mpandas\\_libs\\index.pyx\u001b[0m in \u001b[0;36mpandas._libs.index.IndexEngine.get_loc\u001b[1;34m()\u001b[0m\n",
      "\u001b[1;32mpandas\\_libs\\index_class_helper.pxi\u001b[0m in \u001b[0;36mpandas._libs.index.Int64Engine._check_type\u001b[1;34m()\u001b[0m\n",
      "\u001b[1;31mKeyError\u001b[0m: '0'",
      "\nThe above exception was the direct cause of the following exception:\n",
      "\u001b[1;31mKeyError\u001b[0m                                  Traceback (most recent call last)",
      "\u001b[1;32m<ipython-input-90-5613f30aa066>\u001b[0m in \u001b[0;36m<module>\u001b[1;34m\u001b[0m\n\u001b[1;32m----> 1\u001b[1;33m \u001b[0mdf_wm\u001b[0m\u001b[1;33m[\u001b[0m\u001b[1;34m'0'\u001b[0m\u001b[1;33m]\u001b[0m\u001b[1;33m\u001b[0m\u001b[1;33m\u001b[0m\u001b[0m\n\u001b[0m\u001b[0;32m      2\u001b[0m \u001b[1;31m# df['ECO'] = df['ECO'].map(dict(df_wm['Rsult']))\u001b[0m\u001b[1;33m\u001b[0m\u001b[1;33m\u001b[0m\u001b[1;33m\u001b[0m\u001b[0m\n",
      "\u001b[1;32mb:\\Downloads\\2023\\nqc\\lib\\site-packages\\pandas\\core\\frame.py\u001b[0m in \u001b[0;36m__getitem__\u001b[1;34m(self, key)\u001b[0m\n\u001b[0;32m   2904\u001b[0m             \u001b[1;32mif\u001b[0m \u001b[0mself\u001b[0m\u001b[1;33m.\u001b[0m\u001b[0mcolumns\u001b[0m\u001b[1;33m.\u001b[0m\u001b[0mnlevels\u001b[0m \u001b[1;33m>\u001b[0m \u001b[1;36m1\u001b[0m\u001b[1;33m:\u001b[0m\u001b[1;33m\u001b[0m\u001b[1;33m\u001b[0m\u001b[0m\n\u001b[0;32m   2905\u001b[0m                 \u001b[1;32mreturn\u001b[0m \u001b[0mself\u001b[0m\u001b[1;33m.\u001b[0m\u001b[0m_getitem_multilevel\u001b[0m\u001b[1;33m(\u001b[0m\u001b[0mkey\u001b[0m\u001b[1;33m)\u001b[0m\u001b[1;33m\u001b[0m\u001b[1;33m\u001b[0m\u001b[0m\n\u001b[1;32m-> 2906\u001b[1;33m             \u001b[0mindexer\u001b[0m \u001b[1;33m=\u001b[0m \u001b[0mself\u001b[0m\u001b[1;33m.\u001b[0m\u001b[0mcolumns\u001b[0m\u001b[1;33m.\u001b[0m\u001b[0mget_loc\u001b[0m\u001b[1;33m(\u001b[0m\u001b[0mkey\u001b[0m\u001b[1;33m)\u001b[0m\u001b[1;33m\u001b[0m\u001b[1;33m\u001b[0m\u001b[0m\n\u001b[0m\u001b[0;32m   2907\u001b[0m             \u001b[1;32mif\u001b[0m \u001b[0mis_integer\u001b[0m\u001b[1;33m(\u001b[0m\u001b[0mindexer\u001b[0m\u001b[1;33m)\u001b[0m\u001b[1;33m:\u001b[0m\u001b[1;33m\u001b[0m\u001b[1;33m\u001b[0m\u001b[0m\n\u001b[0;32m   2908\u001b[0m                 \u001b[0mindexer\u001b[0m \u001b[1;33m=\u001b[0m \u001b[1;33m[\u001b[0m\u001b[0mindexer\u001b[0m\u001b[1;33m]\u001b[0m\u001b[1;33m\u001b[0m\u001b[1;33m\u001b[0m\u001b[0m\n",
      "\u001b[1;32mb:\\Downloads\\2023\\nqc\\lib\\site-packages\\pandas\\core\\indexes\\base.py\u001b[0m in \u001b[0;36mget_loc\u001b[1;34m(self, key, method, tolerance)\u001b[0m\n\u001b[0;32m   2898\u001b[0m                 \u001b[1;32mreturn\u001b[0m \u001b[0mself\u001b[0m\u001b[1;33m.\u001b[0m\u001b[0m_engine\u001b[0m\u001b[1;33m.\u001b[0m\u001b[0mget_loc\u001b[0m\u001b[1;33m(\u001b[0m\u001b[0mcasted_key\u001b[0m\u001b[1;33m)\u001b[0m\u001b[1;33m\u001b[0m\u001b[1;33m\u001b[0m\u001b[0m\n\u001b[0;32m   2899\u001b[0m             \u001b[1;32mexcept\u001b[0m \u001b[0mKeyError\u001b[0m \u001b[1;32mas\u001b[0m \u001b[0merr\u001b[0m\u001b[1;33m:\u001b[0m\u001b[1;33m\u001b[0m\u001b[1;33m\u001b[0m\u001b[0m\n\u001b[1;32m-> 2900\u001b[1;33m                 \u001b[1;32mraise\u001b[0m \u001b[0mKeyError\u001b[0m\u001b[1;33m(\u001b[0m\u001b[0mkey\u001b[0m\u001b[1;33m)\u001b[0m \u001b[1;32mfrom\u001b[0m \u001b[0merr\u001b[0m\u001b[1;33m\u001b[0m\u001b[1;33m\u001b[0m\u001b[0m\n\u001b[0m\u001b[0;32m   2901\u001b[0m \u001b[1;33m\u001b[0m\u001b[0m\n\u001b[0;32m   2902\u001b[0m         \u001b[1;32mif\u001b[0m \u001b[0mtolerance\u001b[0m \u001b[1;32mis\u001b[0m \u001b[1;32mnot\u001b[0m \u001b[1;32mNone\u001b[0m\u001b[1;33m:\u001b[0m\u001b[1;33m\u001b[0m\u001b[1;33m\u001b[0m\u001b[0m\n",
      "\u001b[1;31mKeyError\u001b[0m: '0'"
     ]
    }
   ],
   "source": [
    "df_wm['0']\n",
    "# df['ECO'] = df['ECO'].map(dict(df_wm['Rsult']))"
   ]
  },
  {
   "cell_type": "markdown",
   "metadata": {},
   "source": [
    "probability of winning of white player by using their first move"
   ]
  },
  {
   "cell_type": "code",
   "execution_count": null,
   "metadata": {},
   "outputs": [
    {
     "data": {
      "text/html": [
       "<div>\n",
       "<style scoped>\n",
       "    .dataframe tbody tr th:only-of-type {\n",
       "        vertical-align: middle;\n",
       "    }\n",
       "\n",
       "    .dataframe tbody tr th {\n",
       "        vertical-align: top;\n",
       "    }\n",
       "\n",
       "    .dataframe thead th {\n",
       "        text-align: right;\n",
       "    }\n",
       "</style>\n",
       "<table border=\"1\" class=\"dataframe\">\n",
       "  <thead>\n",
       "    <tr style=\"text-align: right;\">\n",
       "      <th>winner</th>\n",
       "      <th>black</th>\n",
       "      <th>draw</th>\n",
       "      <th>white</th>\n",
       "    </tr>\n",
       "    <tr>\n",
       "      <th>black_1move</th>\n",
       "      <th></th>\n",
       "      <th></th>\n",
       "      <th></th>\n",
       "    </tr>\n",
       "  </thead>\n",
       "  <tbody>\n",
       "    <tr>\n",
       "      <th>Na6</th>\n",
       "      <td>0.000000</td>\n",
       "      <td>0.000000</td>\n",
       "      <td>1.000000</td>\n",
       "    </tr>\n",
       "    <tr>\n",
       "      <th>Nc6</th>\n",
       "      <td>0.382653</td>\n",
       "      <td>0.053571</td>\n",
       "      <td>0.563776</td>\n",
       "    </tr>\n",
       "    <tr>\n",
       "      <th>Nf6</th>\n",
       "      <td>0.486119</td>\n",
       "      <td>0.062611</td>\n",
       "      <td>0.451270</td>\n",
       "    </tr>\n",
       "    <tr>\n",
       "      <th>Nh6</th>\n",
       "      <td>0.166667</td>\n",
       "      <td>0.000000</td>\n",
       "      <td>0.833333</td>\n",
       "    </tr>\n",
       "    <tr>\n",
       "      <th>a5</th>\n",
       "      <td>0.260870</td>\n",
       "      <td>0.130435</td>\n",
       "      <td>0.608696</td>\n",
       "    </tr>\n",
       "  </tbody>\n",
       "</table>\n",
       "</div>"
      ],
      "text/plain": [
       "winner          black      draw     white\n",
       "black_1move                              \n",
       "Na6          0.000000  0.000000  1.000000\n",
       "Nc6          0.382653  0.053571  0.563776\n",
       "Nf6          0.486119  0.062611  0.451270\n",
       "Nh6          0.166667  0.000000  0.833333\n",
       "a5           0.260870  0.130435  0.608696"
      ]
     },
     "execution_count": 21,
     "metadata": {},
     "output_type": "execute_result"
    }
   ],
   "source": [
    "# df_bm = pd.crosstab(df.black_1move, columns = df.winner, normalize = 'index')\n",
    "# df_bm.head()"
   ]
  },
  {
   "cell_type": "code",
   "execution_count": null,
   "metadata": {},
   "outputs": [],
   "source": [
    "dict(df_bm['white'])\n",
    "df['black_1move'] = df['black_1move'].map(dict(df_bm['white']))"
   ]
  },
  {
   "cell_type": "markdown",
   "metadata": {},
   "source": [
    "probability of winning of white player on the basis of first move of black player"
   ]
  },
  {
   "cell_type": "code",
   "execution_count": 91,
   "metadata": {},
   "outputs": [
    {
     "name": "stdout",
     "output_type": "stream",
     "text": [
      "winner     black     white\n",
      "ECO                       \n",
      "A00     0.437500  0.562500\n",
      "A01     0.385417  0.614583\n",
      "A02     0.390244  0.609756\n",
      "A03     0.300000  0.700000\n",
      "A04     0.417989  0.582011\n",
      "..           ...       ...\n",
      "E94     0.588235  0.411765\n",
      "E95     0.666667  0.333333\n",
      "E97     0.416667  0.583333\n",
      "E98     0.428571  0.571429\n",
      "E99     1.000000  0.000000\n",
      "\n",
      "[442 rows x 2 columns]\n",
      "      MatchID  WhiteElo  BlackElo  ECO  eval  Result winner opening_eco\n",
      "0           1      2569      2462  D12  0.29       1  white         D12\n",
      "1           2      2581      2574  B00 -0.22       0  black         B00\n",
      "2           3      2573      2479  B53 -3.13       0  black         B53\n",
      "3           4      2602      2343  A40  1.00       1  white         A40\n",
      "4           5      2578      2575  C03  0.91       1  white         C03\n",
      "...       ...       ...       ...  ...   ...     ...    ...         ...\n",
      "9995     9996      2487      2510  B28  1.34       0  black         B28\n",
      "9996     9997      2566      2697  A40  1.36       0  black         A40\n",
      "9997     9998      2498      2566  A04  0.32       0  black         A04\n",
      "9998     9999      2815      2486  C10  0.50       1  white         C10\n",
      "9999    10000      2414      2540  C11  0.60       1  white         C11\n",
      "\n",
      "[10000 rows x 8 columns]\n"
     ]
    }
   ],
   "source": [
    "# if result is 1 then winner is white\n",
    "df['winner']= df['Result'].apply(lambda x: 'white' if x == 1 else 'black')\n",
    "df['opening_eco'] = df['ECO']\n",
    "df_ = pd.crosstab(df.ECO, columns = df.winner, normalize = 'index')\n",
    "print(df_)\n",
    "print(df)"
   ]
  },
  {
   "cell_type": "code",
   "execution_count": 92,
   "metadata": {},
   "outputs": [
    {
     "data": {
      "text/plain": [
       "{'A00': 0.5625,\n",
       " 'A01': 0.6145833333333334,\n",
       " 'A02': 0.6097560975609756,\n",
       " 'A03': 0.7,\n",
       " 'A04': 0.582010582010582,\n",
       " 'A05': 0.5714285714285714,\n",
       " 'A06': 0.5,\n",
       " 'A07': 0.48314606741573035,\n",
       " 'A08': 0.7222222222222222,\n",
       " 'A09': 0.4888888888888889,\n",
       " 'A10': 0.45454545454545453,\n",
       " 'A11': 0.6666666666666666,\n",
       " 'A12': 0.5,\n",
       " 'A13': 0.47297297297297297,\n",
       " 'A14': 0.5,\n",
       " 'A15': 0.638095238095238,\n",
       " 'A16': 0.4074074074074074,\n",
       " 'A17': 0.625,\n",
       " 'A18': 0.3333333333333333,\n",
       " 'A19': 0.2,\n",
       " 'A20': 0.6511627906976745,\n",
       " 'A21': 0.6086956521739131,\n",
       " 'A22': 0.42857142857142855,\n",
       " 'A23': 0.5,\n",
       " 'A24': 0.0,\n",
       " 'A25': 0.5,\n",
       " 'A27': 0.625,\n",
       " 'A28': 0.3157894736842105,\n",
       " 'A29': 0.6666666666666666,\n",
       " 'A30': 0.5652173913043478,\n",
       " 'A31': 0.6111111111111112,\n",
       " 'A32': 0.5,\n",
       " 'A33': 0.7142857142857143,\n",
       " 'A34': 0.6666666666666666,\n",
       " 'A35': 0.5454545454545454,\n",
       " 'A36': 0.2857142857142857,\n",
       " 'A37': 0.5384615384615384,\n",
       " 'A38': 0.0,\n",
       " 'A39': 0.5,\n",
       " 'A40': 0.5533980582524272,\n",
       " 'A41': 0.5185185185185185,\n",
       " 'A42': 0.47058823529411764,\n",
       " 'A43': 0.5747126436781609,\n",
       " 'A44': 0.5483870967741935,\n",
       " 'A45': 0.4823943661971831,\n",
       " 'A46': 0.44654088050314467,\n",
       " 'A47': 0.5833333333333334,\n",
       " 'A48': 0.6588235294117647,\n",
       " 'A49': 0.5454545454545454,\n",
       " 'A50': 0.5945945945945946,\n",
       " 'A51': 0.6,\n",
       " 'A52': 0.5,\n",
       " 'A53': 0.5217391304347826,\n",
       " 'A54': 0.4,\n",
       " 'A55': 0.5,\n",
       " 'A56': 0.4594594594594595,\n",
       " 'A57': 0.6410256410256411,\n",
       " 'A58': 0.3125,\n",
       " 'A59': 0.7,\n",
       " 'A60': 0.6666666666666666,\n",
       " 'A61': 0.7777777777777778,\n",
       " 'A62': 0.7,\n",
       " 'A65': 0.2727272727272727,\n",
       " 'A67': 0.2857142857142857,\n",
       " 'A68': 0.5,\n",
       " 'A69': 0.6666666666666666,\n",
       " 'A70': 0.5714285714285714,\n",
       " 'A72': 0.0,\n",
       " 'A73': 0.0,\n",
       " 'A77': 1.0,\n",
       " 'A78': 0.0,\n",
       " 'A79': 1.0,\n",
       " 'A80': 0.5,\n",
       " 'A81': 0.8,\n",
       " 'A82': 0.0,\n",
       " 'A83': 0.3333333333333333,\n",
       " 'A84': 0.4444444444444444,\n",
       " 'A85': 0.375,\n",
       " 'A86': 0.3333333333333333,\n",
       " 'A87': 0.3333333333333333,\n",
       " 'A88': 0.5,\n",
       " 'A89': 0.3333333333333333,\n",
       " 'A90': 1.0,\n",
       " 'A92': 0.0,\n",
       " 'A94': 1.0,\n",
       " 'A95': 0.0,\n",
       " 'A96': 0.3333333333333333,\n",
       " 'A98': 0.0,\n",
       " 'A99': 1.0,\n",
       " 'B00': 0.48863636363636365,\n",
       " 'B01': 0.524390243902439,\n",
       " 'B02': 0.5142857142857142,\n",
       " 'B03': 0.4358974358974359,\n",
       " 'B04': 0.47368421052631576,\n",
       " 'B05': 0.23076923076923078,\n",
       " 'B06': 0.47474747474747475,\n",
       " 'B07': 0.5470085470085471,\n",
       " 'B08': 0.41379310344827586,\n",
       " 'B09': 0.5833333333333334,\n",
       " 'B10': 0.5,\n",
       " 'B11': 0.4166666666666667,\n",
       " 'B12': 0.5555555555555556,\n",
       " 'B13': 0.625,\n",
       " 'B14': 0.5652173913043478,\n",
       " 'B15': 0.5280898876404494,\n",
       " 'B16': 0.0,\n",
       " 'B17': 0.47058823529411764,\n",
       " 'B18': 0.631578947368421,\n",
       " 'B19': 0.5555555555555556,\n",
       " 'B20': 0.5176470588235295,\n",
       " 'B21': 0.5348837209302325,\n",
       " 'B22': 0.5714285714285714,\n",
       " 'B23': 0.5380116959064327,\n",
       " 'B24': 0.5882352941176471,\n",
       " 'B25': 0.5,\n",
       " 'B26': 0.5,\n",
       " 'B27': 0.48214285714285715,\n",
       " 'B28': 0.44,\n",
       " 'B29': 0.2222222222222222,\n",
       " 'B30': 0.5,\n",
       " 'B31': 0.6060606060606061,\n",
       " 'B32': 0.5128205128205128,\n",
       " 'B33': 0.4642857142857143,\n",
       " 'B34': 0.4,\n",
       " 'B35': 0.5294117647058824,\n",
       " 'B36': 0.5,\n",
       " 'B37': 0.5,\n",
       " 'B38': 0.55,\n",
       " 'B39': 0.16666666666666666,\n",
       " 'B40': 0.4827586206896552,\n",
       " 'B41': 0.5294117647058824,\n",
       " 'B42': 0.5652173913043478,\n",
       " 'B43': 0.22580645161290322,\n",
       " 'B44': 0.5833333333333334,\n",
       " 'B46': 0.6,\n",
       " 'B47': 0.4444444444444444,\n",
       " 'B48': 0.6666666666666666,\n",
       " 'B49': 1.0,\n",
       " 'B50': 0.4318181818181818,\n",
       " 'B51': 0.5135135135135135,\n",
       " 'B52': 0.5102040816326531,\n",
       " 'B53': 0.5555555555555556,\n",
       " 'B54': 0.6086956521739131,\n",
       " 'B55': 1.0,\n",
       " 'B56': 0.48,\n",
       " 'B57': 0.5,\n",
       " 'B58': 1.0,\n",
       " 'B59': 0.0,\n",
       " 'B60': 0.6,\n",
       " 'B61': 0.3333333333333333,\n",
       " 'B62': 0.5714285714285714,\n",
       " 'B63': 0.25,\n",
       " 'B64': 0.0,\n",
       " 'B65': 0.0,\n",
       " 'B66': 0.5,\n",
       " 'B67': 0.25,\n",
       " 'B68': 1.0,\n",
       " 'B69': 1.0,\n",
       " 'B70': 0.5625,\n",
       " 'B71': 0.6,\n",
       " 'B72': 0.25,\n",
       " 'B74': 1.0,\n",
       " 'B75': 0.3333333333333333,\n",
       " 'B76': 0.48,\n",
       " 'B77': 0.75,\n",
       " 'B78': 0.625,\n",
       " 'B80': 0.6666666666666666,\n",
       " 'B81': 0.6,\n",
       " 'B82': 1.0,\n",
       " 'B84': 0.7142857142857143,\n",
       " 'B85': 0.3333333333333333,\n",
       " 'B87': 0.3333333333333333,\n",
       " 'B88': 1.0,\n",
       " 'B89': 0.3333333333333333,\n",
       " 'B90': 0.5764705882352941,\n",
       " 'B91': 0.0,\n",
       " 'B92': 0.6923076923076923,\n",
       " 'B93': 0.5,\n",
       " 'B94': 0.4166666666666667,\n",
       " 'B95': 0.5,\n",
       " 'B96': 0.45454545454545453,\n",
       " 'B97': 0.3333333333333333,\n",
       " 'B98': 0.0,\n",
       " 'B99': 0.8,\n",
       " 'C00': 0.503030303030303,\n",
       " 'C01': 0.5208333333333334,\n",
       " 'C02': 0.5729166666666666,\n",
       " 'C03': 0.3333333333333333,\n",
       " 'C04': 0.4,\n",
       " 'C05': 0.6153846153846154,\n",
       " 'C06': 0.6153846153846154,\n",
       " 'C07': 0.5263157894736842,\n",
       " 'C08': 0.0,\n",
       " 'C09': 0.5,\n",
       " 'C10': 0.5517241379310345,\n",
       " 'C11': 0.47761194029850745,\n",
       " 'C12': 0.5,\n",
       " 'C13': 0.4166666666666667,\n",
       " 'C14': 0.8571428571428571,\n",
       " 'C15': 0.5555555555555556,\n",
       " 'C16': 0.3888888888888889,\n",
       " 'C17': 0.42857142857142855,\n",
       " 'C18': 0.5454545454545454,\n",
       " 'C19': 0.6206896551724138,\n",
       " 'C20': 0.6666666666666666,\n",
       " 'C21': 0.2857142857142857,\n",
       " 'C22': 0.5,\n",
       " 'C23': 0.75,\n",
       " 'C24': 0.4375,\n",
       " 'C25': 0.46153846153846156,\n",
       " 'C26': 0.5652173913043478,\n",
       " 'C27': 1.0,\n",
       " 'C28': 0.3333333333333333,\n",
       " 'C29': 0.6,\n",
       " 'C30': 0.0,\n",
       " 'C31': 0.625,\n",
       " 'C32': 1.0,\n",
       " 'C33': 0.0,\n",
       " 'C34': 0.8333333333333334,\n",
       " 'C36': 0.2,\n",
       " 'C37': 1.0,\n",
       " 'C40': 0.37037037037037035,\n",
       " 'C41': 0.43478260869565216,\n",
       " 'C42': 0.5471698113207547,\n",
       " 'C43': 0.7692307692307693,\n",
       " 'C44': 0.4482758620689655,\n",
       " 'C45': 0.5434782608695652,\n",
       " 'C46': 0.6666666666666666,\n",
       " 'C47': 0.49019607843137253,\n",
       " 'C48': 0.48,\n",
       " 'C49': 0.5714285714285714,\n",
       " 'C50': 0.4788732394366197,\n",
       " 'C51': 0.0,\n",
       " 'C52': 0.6666666666666666,\n",
       " 'C53': 0.5423728813559322,\n",
       " 'C54': 0.4444444444444444,\n",
       " 'C55': 0.6,\n",
       " 'C56': 0.5,\n",
       " 'C57': 0.6666666666666666,\n",
       " 'C58': 0.5,\n",
       " 'C59': 0.0,\n",
       " 'C60': 0.6875,\n",
       " 'C61': 0.5,\n",
       " 'C62': 0.3333333333333333,\n",
       " 'C63': 0.42857142857142855,\n",
       " 'C64': 0.75,\n",
       " 'C65': 0.5652173913043478,\n",
       " 'C66': 0.5,\n",
       " 'C67': 0.43478260869565216,\n",
       " 'C68': 0.5,\n",
       " 'C69': 0.7142857142857143,\n",
       " 'C70': 0.3,\n",
       " 'C71': 0.5,\n",
       " 'C72': 0.5,\n",
       " 'C74': 1.0,\n",
       " 'C75': 1.0,\n",
       " 'C76': 0.0,\n",
       " 'C77': 0.6666666666666666,\n",
       " 'C78': 0.3448275862068966,\n",
       " 'C80': 0.8,\n",
       " 'C82': 0.6666666666666666,\n",
       " 'C84': 0.0,\n",
       " 'C86': 0.0,\n",
       " 'C88': 0.5833333333333334,\n",
       " 'C89': 0.0,\n",
       " 'C90': 0.5,\n",
       " 'C91': 0.3333333333333333,\n",
       " 'C92': 0.5,\n",
       " 'C94': 0.0,\n",
       " 'C95': 0.75,\n",
       " 'C97': 0.5,\n",
       " 'C99': 1.0,\n",
       " 'D00': 0.46621621621621623,\n",
       " 'D01': 0.5299145299145299,\n",
       " 'D02': 0.5238095238095238,\n",
       " 'D03': 0.5454545454545454,\n",
       " 'D04': 0.23076923076923078,\n",
       " 'D05': 0.7142857142857143,\n",
       " 'D06': 0.5555555555555556,\n",
       " 'D07': 0.5,\n",
       " 'D08': 0.5384615384615384,\n",
       " 'D09': 0.0,\n",
       " 'D10': 0.46153846153846156,\n",
       " 'D11': 0.4827586206896552,\n",
       " 'D12': 0.5882352941176471,\n",
       " 'D13': 0.5,\n",
       " 'D14': 0.7142857142857143,\n",
       " 'D15': 0.6511627906976745,\n",
       " 'D16': 0.3333333333333333,\n",
       " 'D17': 0.625,\n",
       " 'D18': 0.0,\n",
       " 'D19': 0.42857142857142855,\n",
       " 'D20': 0.5,\n",
       " 'D21': 0.5454545454545454,\n",
       " 'D22': 1.0,\n",
       " 'D23': 0.7142857142857143,\n",
       " 'D24': 0.2,\n",
       " 'D25': 0.7777777777777778,\n",
       " 'D26': 0.5555555555555556,\n",
       " 'D27': 0.7777777777777778,\n",
       " 'D28': 1.0,\n",
       " 'D30': 0.5443037974683544,\n",
       " 'D31': 0.4520547945205479,\n",
       " 'D32': 0.6,\n",
       " 'D33': 0.5714285714285714,\n",
       " 'D34': 0.5454545454545454,\n",
       " 'D35': 0.6101694915254238,\n",
       " 'D36': 0.7,\n",
       " 'D37': 0.4745762711864407,\n",
       " 'D38': 0.47368421052631576,\n",
       " 'D39': 1.0,\n",
       " 'D40': 0.6666666666666666,\n",
       " 'D41': 0.2727272727272727,\n",
       " 'D42': 0.5,\n",
       " 'D43': 0.6666666666666666,\n",
       " 'D44': 0.3333333333333333,\n",
       " 'D45': 0.5925925925925926,\n",
       " 'D46': 0.8,\n",
       " 'D47': 0.375,\n",
       " 'D48': 1.0,\n",
       " 'D49': 0.0,\n",
       " 'D50': 0.6666666666666666,\n",
       " 'D52': 0.5,\n",
       " 'D53': 0.75,\n",
       " 'D55': 0.5833333333333334,\n",
       " 'D56': 0.5,\n",
       " 'D57': 0.0,\n",
       " 'D58': 0.75,\n",
       " 'D59': 0.0,\n",
       " 'D60': 0.6666666666666666,\n",
       " 'D61': 0.6666666666666666,\n",
       " 'D66': 1.0,\n",
       " 'D70': 0.5,\n",
       " 'D74': 0.6666666666666666,\n",
       " 'D75': 0.0,\n",
       " 'D76': 0.0,\n",
       " 'D77': 0.6153846153846154,\n",
       " 'D78': 0.5,\n",
       " 'D79': 0.5555555555555556,\n",
       " 'D80': 0.42857142857142855,\n",
       " 'D82': 0.3333333333333333,\n",
       " 'D83': 0.0,\n",
       " 'D85': 0.4423076923076923,\n",
       " 'D86': 0.5,\n",
       " 'D87': 0.5,\n",
       " 'D88': 0.0,\n",
       " 'D89': 1.0,\n",
       " 'D90': 0.4166666666666667,\n",
       " 'D91': 0.5714285714285714,\n",
       " 'D92': 0.0,\n",
       " 'D93': 0.0,\n",
       " 'D94': 0.3333333333333333,\n",
       " 'D95': 1.0,\n",
       " 'D96': 1.0,\n",
       " 'D97': 0.8,\n",
       " 'E00': 0.5,\n",
       " 'E01': 0.5625,\n",
       " 'E04': 0.5357142857142857,\n",
       " 'E05': 1.0,\n",
       " 'E06': 0.5471698113207547,\n",
       " 'E07': 0.6666666666666666,\n",
       " 'E08': 0.3333333333333333,\n",
       " 'E09': 0.6666666666666666,\n",
       " 'E10': 0.45454545454545453,\n",
       " 'E11': 0.4444444444444444,\n",
       " 'E12': 0.6521739130434783,\n",
       " 'E13': 0.5,\n",
       " 'E14': 0.0,\n",
       " 'E15': 0.5757575757575758,\n",
       " 'E16': 0.6363636363636364,\n",
       " 'E17': 0.7142857142857143,\n",
       " 'E18': 0.5454545454545454,\n",
       " 'E19': 0.5,\n",
       " 'E20': 0.45161290322580644,\n",
       " 'E21': 0.3333333333333333,\n",
       " 'E22': 0.5,\n",
       " 'E23': 1.0,\n",
       " 'E24': 0.7272727272727273,\n",
       " 'E25': 0.5,\n",
       " 'E26': 1.0,\n",
       " 'E27': 0.7142857142857143,\n",
       " 'E28': 0.0,\n",
       " 'E29': 1.0,\n",
       " 'E30': 0.4444444444444444,\n",
       " 'E31': 1.0,\n",
       " 'E32': 0.5238095238095238,\n",
       " 'E33': 0.4,\n",
       " 'E34': 0.25,\n",
       " 'E35': 0.0,\n",
       " 'E36': 0.25,\n",
       " 'E37': 1.0,\n",
       " 'E38': 0.38461538461538464,\n",
       " 'E39': 0.3333333333333333,\n",
       " 'E40': 0.3333333333333333,\n",
       " 'E41': 0.6,\n",
       " 'E42': 0.5,\n",
       " 'E43': 0.0,\n",
       " 'E44': 0.0,\n",
       " 'E45': 1.0,\n",
       " 'E46': 0.9166666666666666,\n",
       " 'E47': 0.6,\n",
       " 'E48': 0.7692307692307693,\n",
       " 'E49': 1.0,\n",
       " 'E50': 0.0,\n",
       " 'E51': 0.0,\n",
       " 'E52': 0.0,\n",
       " 'E53': 0.5,\n",
       " 'E54': 0.5,\n",
       " 'E60': 0.5588235294117647,\n",
       " 'E61': 0.6470588235294118,\n",
       " 'E62': 0.5925925925925926,\n",
       " 'E63': 0.7142857142857143,\n",
       " 'E65': 0.2,\n",
       " 'E66': 0.25,\n",
       " 'E67': 0.75,\n",
       " 'E68': 0.6470588235294118,\n",
       " 'E69': 0.6666666666666666,\n",
       " 'E70': 0.5,\n",
       " 'E71': 0.5263157894736842,\n",
       " 'E72': 1.0,\n",
       " 'E73': 0.35294117647058826,\n",
       " 'E74': 0.2,\n",
       " 'E75': 0.5,\n",
       " 'E76': 0.3333333333333333,\n",
       " 'E77': 0.0,\n",
       " 'E79': 1.0,\n",
       " 'E80': 1.0,\n",
       " 'E81': 0.6666666666666666,\n",
       " 'E82': 0.0,\n",
       " 'E83': 0.6666666666666666,\n",
       " 'E84': 1.0,\n",
       " 'E85': 0.0,\n",
       " 'E87': 0.5,\n",
       " 'E90': 0.3888888888888889,\n",
       " 'E91': 0.6,\n",
       " 'E92': 0.6486486486486487,\n",
       " 'E93': 1.0,\n",
       " 'E94': 0.4117647058823529,\n",
       " 'E95': 0.3333333333333333,\n",
       " 'E97': 0.5833333333333334,\n",
       " 'E98': 0.5714285714285714,\n",
       " 'E99': 0.0}"
      ]
     },
     "execution_count": 92,
     "metadata": {},
     "output_type": "execute_result"
    }
   ],
   "source": [
    "dict(df_['white'])"
   ]
  },
  {
   "cell_type": "code",
   "execution_count": 93,
   "metadata": {},
   "outputs": [],
   "source": [
    "df['opening_eco']= df['opening_eco'].map(dict(df_['white']))"
   ]
  },
  {
   "cell_type": "code",
   "execution_count": 94,
   "metadata": {},
   "outputs": [
    {
     "data": {
      "text/html": [
       "<div>\n",
       "<style scoped>\n",
       "    .dataframe tbody tr th:only-of-type {\n",
       "        vertical-align: middle;\n",
       "    }\n",
       "\n",
       "    .dataframe tbody tr th {\n",
       "        vertical-align: top;\n",
       "    }\n",
       "\n",
       "    .dataframe thead th {\n",
       "        text-align: right;\n",
       "    }\n",
       "</style>\n",
       "<table border=\"1\" class=\"dataframe\">\n",
       "  <thead>\n",
       "    <tr style=\"text-align: right;\">\n",
       "      <th></th>\n",
       "      <th>MatchID</th>\n",
       "      <th>WhiteElo</th>\n",
       "      <th>BlackElo</th>\n",
       "      <th>ECO</th>\n",
       "      <th>eval</th>\n",
       "      <th>Result</th>\n",
       "      <th>winner</th>\n",
       "      <th>opening_eco</th>\n",
       "    </tr>\n",
       "  </thead>\n",
       "  <tbody>\n",
       "    <tr>\n",
       "      <th>0</th>\n",
       "      <td>1</td>\n",
       "      <td>2569</td>\n",
       "      <td>2462</td>\n",
       "      <td>D12</td>\n",
       "      <td>0.29</td>\n",
       "      <td>1</td>\n",
       "      <td>white</td>\n",
       "      <td>0.588235</td>\n",
       "    </tr>\n",
       "    <tr>\n",
       "      <th>1</th>\n",
       "      <td>2</td>\n",
       "      <td>2581</td>\n",
       "      <td>2574</td>\n",
       "      <td>B00</td>\n",
       "      <td>-0.22</td>\n",
       "      <td>0</td>\n",
       "      <td>black</td>\n",
       "      <td>0.488636</td>\n",
       "    </tr>\n",
       "    <tr>\n",
       "      <th>2</th>\n",
       "      <td>3</td>\n",
       "      <td>2573</td>\n",
       "      <td>2479</td>\n",
       "      <td>B53</td>\n",
       "      <td>-3.13</td>\n",
       "      <td>0</td>\n",
       "      <td>black</td>\n",
       "      <td>0.555556</td>\n",
       "    </tr>\n",
       "    <tr>\n",
       "      <th>3</th>\n",
       "      <td>4</td>\n",
       "      <td>2602</td>\n",
       "      <td>2343</td>\n",
       "      <td>A40</td>\n",
       "      <td>1.00</td>\n",
       "      <td>1</td>\n",
       "      <td>white</td>\n",
       "      <td>0.553398</td>\n",
       "    </tr>\n",
       "    <tr>\n",
       "      <th>4</th>\n",
       "      <td>5</td>\n",
       "      <td>2578</td>\n",
       "      <td>2575</td>\n",
       "      <td>C03</td>\n",
       "      <td>0.91</td>\n",
       "      <td>1</td>\n",
       "      <td>white</td>\n",
       "      <td>0.333333</td>\n",
       "    </tr>\n",
       "  </tbody>\n",
       "</table>\n",
       "</div>"
      ],
      "text/plain": [
       "   MatchID  WhiteElo  BlackElo  ECO  eval  Result winner  opening_eco\n",
       "0        1      2569      2462  D12  0.29       1  white     0.588235\n",
       "1        2      2581      2574  B00 -0.22       0  black     0.488636\n",
       "2        3      2573      2479  B53 -3.13       0  black     0.555556\n",
       "3        4      2602      2343  A40  1.00       1  white     0.553398\n",
       "4        5      2578      2575  C03  0.91       1  white     0.333333"
      ]
     },
     "execution_count": 94,
     "metadata": {},
     "output_type": "execute_result"
    }
   ],
   "source": [
    "df.head()"
   ]
  },
  {
   "cell_type": "code",
   "execution_count": null,
   "metadata": {},
   "outputs": [
    {
     "data": {
      "text/plain": [
       "442"
      ]
     },
     "execution_count": 62,
     "metadata": {},
     "output_type": "execute_result"
    }
   ],
   "source": [
    "df.opening_eco.nunique() # it "
   ]
  },
  {
   "cell_type": "code",
   "execution_count": null,
   "metadata": {},
   "outputs": [
    {
     "data": {
      "text/plain": [
       "20"
      ]
     },
     "execution_count": 28,
     "metadata": {},
     "output_type": "execute_result"
    }
   ],
   "source": [
    "df.black_1move.nunique()"
   ]
  },
  {
   "cell_type": "code",
   "execution_count": null,
   "metadata": {},
   "outputs": [
    {
     "data": {
      "text/plain": [
       "MatchID        0\n",
       "WhiteElo       0\n",
       "BlackElo       0\n",
       "ECO            0\n",
       "eval           0\n",
       "Result         0\n",
       "winner         0\n",
       "opening_eco    0\n",
       "dtype: int64"
      ]
     },
     "execution_count": 63,
     "metadata": {},
     "output_type": "execute_result"
    }
   ],
   "source": [
    "df.isnull().sum()"
   ]
  },
  {
   "cell_type": "markdown",
   "metadata": {},
   "source": [
    "There is 18 missing value acceptable because it is possible that they started the game white payer is the first who start the game maybe after start of the game black player gaveup to play"
   ]
  },
  {
   "cell_type": "code",
   "execution_count": null,
   "metadata": {},
   "outputs": [
    {
     "data": {
      "text/html": [
       "<div>\n",
       "<style scoped>\n",
       "    .dataframe tbody tr th:only-of-type {\n",
       "        vertical-align: middle;\n",
       "    }\n",
       "\n",
       "    .dataframe tbody tr th {\n",
       "        vertical-align: top;\n",
       "    }\n",
       "\n",
       "    .dataframe thead th {\n",
       "        text-align: right;\n",
       "    }\n",
       "</style>\n",
       "<table border=\"1\" class=\"dataframe\">\n",
       "  <thead>\n",
       "    <tr style=\"text-align: right;\">\n",
       "      <th></th>\n",
       "      <th>id</th>\n",
       "      <th>rated</th>\n",
       "      <th>turns</th>\n",
       "      <th>victory_status</th>\n",
       "      <th>winner</th>\n",
       "      <th>white_rating</th>\n",
       "      <th>black_rating</th>\n",
       "      <th>moves</th>\n",
       "      <th>opening_eco</th>\n",
       "      <th>opening_name</th>\n",
       "      <th>opening_ply</th>\n",
       "      <th>white_1move</th>\n",
       "      <th>black_1move</th>\n",
       "    </tr>\n",
       "  </thead>\n",
       "  <tbody>\n",
       "    <tr>\n",
       "      <th>0</th>\n",
       "      <td>TZJHLljE</td>\n",
       "      <td>False</td>\n",
       "      <td>13</td>\n",
       "      <td>outoftime</td>\n",
       "      <td>white</td>\n",
       "      <td>1500</td>\n",
       "      <td>1191</td>\n",
       "      <td>d4 d5 c4 c6 cxd5 e6 dxe6 fxe6 Nf3 Bb4+ Nc3 Ba5...</td>\n",
       "      <td>0.400000</td>\n",
       "      <td>Slav Defense: Exchange Variation</td>\n",
       "      <td>5</td>\n",
       "      <td>0.499337</td>\n",
       "      <td>0.493591</td>\n",
       "    </tr>\n",
       "    <tr>\n",
       "      <th>1</th>\n",
       "      <td>l1NXvwaE</td>\n",
       "      <td>True</td>\n",
       "      <td>16</td>\n",
       "      <td>resign</td>\n",
       "      <td>black</td>\n",
       "      <td>1322</td>\n",
       "      <td>1261</td>\n",
       "      <td>d4 Nc6 e4 e5 f4 f6 dxe5 fxe5 fxe5 Nxe5 Qd4 Nc6...</td>\n",
       "      <td>0.597381</td>\n",
       "      <td>Nimzowitsch Defense: Kennedy Variation</td>\n",
       "      <td>4</td>\n",
       "      <td>0.499337</td>\n",
       "      <td>0.563776</td>\n",
       "    </tr>\n",
       "    <tr>\n",
       "      <th>2</th>\n",
       "      <td>mIICvQHh</td>\n",
       "      <td>True</td>\n",
       "      <td>61</td>\n",
       "      <td>mate</td>\n",
       "      <td>white</td>\n",
       "      <td>1496</td>\n",
       "      <td>1500</td>\n",
       "      <td>e4 e5 d3 d6 Be3 c6 Be2 b5 Nd2 a5 a4 c5 axb5 Nc...</td>\n",
       "      <td>0.442963</td>\n",
       "      <td>King's Pawn Game: Leonardis Variation</td>\n",
       "      <td>3</td>\n",
       "      <td>0.505715</td>\n",
       "      <td>0.515312</td>\n",
       "    </tr>\n",
       "    <tr>\n",
       "      <th>3</th>\n",
       "      <td>kWKvrqYL</td>\n",
       "      <td>True</td>\n",
       "      <td>61</td>\n",
       "      <td>mate</td>\n",
       "      <td>white</td>\n",
       "      <td>1439</td>\n",
       "      <td>1454</td>\n",
       "      <td>d4 d5 Nf3 Bf5 Nc3 Nf6 Bf4 Ng4 e3 Nc6 Be2 Qd7 O...</td>\n",
       "      <td>0.511521</td>\n",
       "      <td>Queen's Pawn Game: Zukertort Variation</td>\n",
       "      <td>3</td>\n",
       "      <td>0.499337</td>\n",
       "      <td>0.493591</td>\n",
       "    </tr>\n",
       "    <tr>\n",
       "      <th>4</th>\n",
       "      <td>9tXo1AUZ</td>\n",
       "      <td>True</td>\n",
       "      <td>95</td>\n",
       "      <td>mate</td>\n",
       "      <td>white</td>\n",
       "      <td>1523</td>\n",
       "      <td>1469</td>\n",
       "      <td>e4 e5 Nf3 d6 d4 Nc6 d5 Nb4 a3 Na6 Nc3 Be7 b4 N...</td>\n",
       "      <td>0.573082</td>\n",
       "      <td>Philidor Defense</td>\n",
       "      <td>5</td>\n",
       "      <td>0.505715</td>\n",
       "      <td>0.515312</td>\n",
       "    </tr>\n",
       "  </tbody>\n",
       "</table>\n",
       "</div>"
      ],
      "text/plain": [
       "         id  rated  turns victory_status winner  white_rating  black_rating  \\\n",
       "0  TZJHLljE  False     13      outoftime  white          1500          1191   \n",
       "1  l1NXvwaE   True     16         resign  black          1322          1261   \n",
       "2  mIICvQHh   True     61           mate  white          1496          1500   \n",
       "3  kWKvrqYL   True     61           mate  white          1439          1454   \n",
       "4  9tXo1AUZ   True     95           mate  white          1523          1469   \n",
       "\n",
       "                                               moves  opening_eco  \\\n",
       "0  d4 d5 c4 c6 cxd5 e6 dxe6 fxe6 Nf3 Bb4+ Nc3 Ba5...     0.400000   \n",
       "1  d4 Nc6 e4 e5 f4 f6 dxe5 fxe5 fxe5 Nxe5 Qd4 Nc6...     0.597381   \n",
       "2  e4 e5 d3 d6 Be3 c6 Be2 b5 Nd2 a5 a4 c5 axb5 Nc...     0.442963   \n",
       "3  d4 d5 Nf3 Bf5 Nc3 Nf6 Bf4 Ng4 e3 Nc6 Be2 Qd7 O...     0.511521   \n",
       "4  e4 e5 Nf3 d6 d4 Nc6 d5 Nb4 a3 Na6 Nc3 Be7 b4 N...     0.573082   \n",
       "\n",
       "                             opening_name  opening_ply  white_1move  \\\n",
       "0        Slav Defense: Exchange Variation            5     0.499337   \n",
       "1  Nimzowitsch Defense: Kennedy Variation            4     0.499337   \n",
       "2   King's Pawn Game: Leonardis Variation            3     0.505715   \n",
       "3  Queen's Pawn Game: Zukertort Variation            3     0.499337   \n",
       "4                        Philidor Defense            5     0.505715   \n",
       "\n",
       "   black_1move  \n",
       "0     0.493591  \n",
       "1     0.563776  \n",
       "2     0.515312  \n",
       "3     0.493591  \n",
       "4     0.515312  "
      ]
     },
     "execution_count": 30,
     "metadata": {},
     "output_type": "execute_result"
    }
   ],
   "source": [
    "df.dropna().head()"
   ]
  },
  {
   "cell_type": "code",
   "execution_count": null,
   "metadata": {},
   "outputs": [],
   "source": [
    "#df.moves.unique()"
   ]
  },
  {
   "cell_type": "code",
   "execution_count": null,
   "metadata": {},
   "outputs": [
    {
     "data": {
      "text/plain": [
       "23"
      ]
     },
     "execution_count": 32,
     "metadata": {},
     "output_type": "execute_result"
    }
   ],
   "source": [
    "df.opening_ply.nunique()"
   ]
  },
  {
   "cell_type": "code",
   "execution_count": null,
   "metadata": {},
   "outputs": [
    {
     "data": {
      "text/plain": [
       "1477"
      ]
     },
     "execution_count": 33,
     "metadata": {},
     "output_type": "execute_result"
    }
   ],
   "source": [
    "df.opening_name.nunique()"
   ]
  },
  {
   "cell_type": "markdown",
   "metadata": {},
   "source": [
    "# Now I will treat the categorical varibles"
   ]
  },
  {
   "cell_type": "markdown",
   "metadata": {},
   "source": [
    "### first lets check what is rated columns "
   ]
  },
  {
   "cell_type": "code",
   "execution_count": null,
   "metadata": {},
   "outputs": [
    {
     "data": {
      "text/plain": [
       "array([False,  True])"
      ]
     },
     "execution_count": 34,
     "metadata": {},
     "output_type": "execute_result"
    }
   ],
   "source": [
    "df['rated'].unique()"
   ]
  },
  {
   "cell_type": "markdown",
   "metadata": {},
   "source": [
    "so, it include two category true and false which seems if rated is true and if not rated is false which make sense, lets convert it into o and 1 form"
   ]
  },
  {
   "cell_type": "code",
   "execution_count": null,
   "metadata": {},
   "outputs": [
    {
     "data": {
      "text/plain": [
       "array(['outoftime', 'resign', 'mate', 'draw'], dtype=object)"
      ]
     },
     "execution_count": 35,
     "metadata": {},
     "output_type": "execute_result"
    }
   ],
   "source": [
    "df.victory_status.unique()"
   ]
  },
  {
   "cell_type": "code",
   "execution_count": 95,
   "metadata": {},
   "outputs": [],
   "source": [
    "df.drop(columns = ['MatchID', 'ECO'], inplace = True)"
   ]
  },
  {
   "cell_type": "code",
   "execution_count": 96,
   "metadata": {},
   "outputs": [
    {
     "data": {
      "text/html": [
       "<div>\n",
       "<style scoped>\n",
       "    .dataframe tbody tr th:only-of-type {\n",
       "        vertical-align: middle;\n",
       "    }\n",
       "\n",
       "    .dataframe tbody tr th {\n",
       "        vertical-align: top;\n",
       "    }\n",
       "\n",
       "    .dataframe thead th {\n",
       "        text-align: right;\n",
       "    }\n",
       "</style>\n",
       "<table border=\"1\" class=\"dataframe\">\n",
       "  <thead>\n",
       "    <tr style=\"text-align: right;\">\n",
       "      <th></th>\n",
       "      <th>WhiteElo</th>\n",
       "      <th>BlackElo</th>\n",
       "      <th>eval</th>\n",
       "      <th>Result</th>\n",
       "      <th>winner</th>\n",
       "      <th>opening_eco</th>\n",
       "    </tr>\n",
       "  </thead>\n",
       "  <tbody>\n",
       "    <tr>\n",
       "      <th>0</th>\n",
       "      <td>2569</td>\n",
       "      <td>2462</td>\n",
       "      <td>0.29</td>\n",
       "      <td>1</td>\n",
       "      <td>white</td>\n",
       "      <td>0.588235</td>\n",
       "    </tr>\n",
       "    <tr>\n",
       "      <th>1</th>\n",
       "      <td>2581</td>\n",
       "      <td>2574</td>\n",
       "      <td>-0.22</td>\n",
       "      <td>0</td>\n",
       "      <td>black</td>\n",
       "      <td>0.488636</td>\n",
       "    </tr>\n",
       "    <tr>\n",
       "      <th>2</th>\n",
       "      <td>2573</td>\n",
       "      <td>2479</td>\n",
       "      <td>-3.13</td>\n",
       "      <td>0</td>\n",
       "      <td>black</td>\n",
       "      <td>0.555556</td>\n",
       "    </tr>\n",
       "    <tr>\n",
       "      <th>3</th>\n",
       "      <td>2602</td>\n",
       "      <td>2343</td>\n",
       "      <td>1.00</td>\n",
       "      <td>1</td>\n",
       "      <td>white</td>\n",
       "      <td>0.553398</td>\n",
       "    </tr>\n",
       "    <tr>\n",
       "      <th>4</th>\n",
       "      <td>2578</td>\n",
       "      <td>2575</td>\n",
       "      <td>0.91</td>\n",
       "      <td>1</td>\n",
       "      <td>white</td>\n",
       "      <td>0.333333</td>\n",
       "    </tr>\n",
       "  </tbody>\n",
       "</table>\n",
       "</div>"
      ],
      "text/plain": [
       "   WhiteElo  BlackElo  eval  Result winner  opening_eco\n",
       "0      2569      2462  0.29       1  white     0.588235\n",
       "1      2581      2574 -0.22       0  black     0.488636\n",
       "2      2573      2479 -3.13       0  black     0.555556\n",
       "3      2602      2343  1.00       1  white     0.553398\n",
       "4      2578      2575  0.91       1  white     0.333333"
      ]
     },
     "execution_count": 96,
     "metadata": {},
     "output_type": "execute_result"
    }
   ],
   "source": [
    "df.head()"
   ]
  },
  {
   "cell_type": "code",
   "execution_count": null,
   "metadata": {},
   "outputs": [],
   "source": [
    "df.replace({False: 0, True: 1}, inplace=True)"
   ]
  },
  {
   "cell_type": "code",
   "execution_count": null,
   "metadata": {},
   "outputs": [
    {
     "data": {
      "text/html": [
       "<div>\n",
       "<style scoped>\n",
       "    .dataframe tbody tr th:only-of-type {\n",
       "        vertical-align: middle;\n",
       "    }\n",
       "\n",
       "    .dataframe tbody tr th {\n",
       "        vertical-align: top;\n",
       "    }\n",
       "\n",
       "    .dataframe thead th {\n",
       "        text-align: right;\n",
       "    }\n",
       "</style>\n",
       "<table border=\"1\" class=\"dataframe\">\n",
       "  <thead>\n",
       "    <tr style=\"text-align: right;\">\n",
       "      <th></th>\n",
       "      <th>MatchID</th>\n",
       "      <th>WhiteElo</th>\n",
       "      <th>BlackElo</th>\n",
       "      <th>ECO</th>\n",
       "      <th>eval</th>\n",
       "      <th>Result</th>\n",
       "      <th>winner</th>\n",
       "      <th>opening_eco</th>\n",
       "    </tr>\n",
       "  </thead>\n",
       "  <tbody>\n",
       "    <tr>\n",
       "      <th>0</th>\n",
       "      <td>1</td>\n",
       "      <td>2569</td>\n",
       "      <td>2462</td>\n",
       "      <td>D12</td>\n",
       "      <td>0.29</td>\n",
       "      <td>1</td>\n",
       "      <td>white</td>\n",
       "      <td>D12</td>\n",
       "    </tr>\n",
       "    <tr>\n",
       "      <th>1</th>\n",
       "      <td>2</td>\n",
       "      <td>2581</td>\n",
       "      <td>2574</td>\n",
       "      <td>B00</td>\n",
       "      <td>-0.22</td>\n",
       "      <td>0</td>\n",
       "      <td>black</td>\n",
       "      <td>B00</td>\n",
       "    </tr>\n",
       "    <tr>\n",
       "      <th>2</th>\n",
       "      <td>3</td>\n",
       "      <td>2573</td>\n",
       "      <td>2479</td>\n",
       "      <td>B53</td>\n",
       "      <td>-3.13</td>\n",
       "      <td>0</td>\n",
       "      <td>black</td>\n",
       "      <td>B53</td>\n",
       "    </tr>\n",
       "    <tr>\n",
       "      <th>3</th>\n",
       "      <td>4</td>\n",
       "      <td>2602</td>\n",
       "      <td>2343</td>\n",
       "      <td>A40</td>\n",
       "      <td>1.00</td>\n",
       "      <td>1</td>\n",
       "      <td>white</td>\n",
       "      <td>A40</td>\n",
       "    </tr>\n",
       "    <tr>\n",
       "      <th>4</th>\n",
       "      <td>5</td>\n",
       "      <td>2578</td>\n",
       "      <td>2575</td>\n",
       "      <td>C03</td>\n",
       "      <td>0.91</td>\n",
       "      <td>1</td>\n",
       "      <td>white</td>\n",
       "      <td>C03</td>\n",
       "    </tr>\n",
       "  </tbody>\n",
       "</table>\n",
       "</div>"
      ],
      "text/plain": [
       "   MatchID  WhiteElo  BlackElo  ECO  eval  Result winner opening_eco\n",
       "0        1      2569      2462  D12  0.29       1  white         D12\n",
       "1        2      2581      2574  B00 -0.22       0  black         B00\n",
       "2        3      2573      2479  B53 -3.13       0  black         B53\n",
       "3        4      2602      2343  A40  1.00       1  white         A40\n",
       "4        5      2578      2575  C03  0.91       1  white         C03"
      ]
     },
     "execution_count": 64,
     "metadata": {},
     "output_type": "execute_result"
    }
   ],
   "source": [
    "df.head()"
   ]
  },
  {
   "cell_type": "code",
   "execution_count": null,
   "metadata": {},
   "outputs": [],
   "source": [
    "df.replace({'white' : 1, 'black': 0, 'draw': 0}, inplace = True)"
   ]
  },
  {
   "cell_type": "code",
   "execution_count": null,
   "metadata": {},
   "outputs": [
    {
     "data": {
      "text/html": [
       "<div>\n",
       "<style scoped>\n",
       "    .dataframe tbody tr th:only-of-type {\n",
       "        vertical-align: middle;\n",
       "    }\n",
       "\n",
       "    .dataframe tbody tr th {\n",
       "        vertical-align: top;\n",
       "    }\n",
       "\n",
       "    .dataframe thead th {\n",
       "        text-align: right;\n",
       "    }\n",
       "</style>\n",
       "<table border=\"1\" class=\"dataframe\">\n",
       "  <thead>\n",
       "    <tr style=\"text-align: right;\">\n",
       "      <th></th>\n",
       "      <th>WhiteElo</th>\n",
       "      <th>BlackElo</th>\n",
       "      <th>eval</th>\n",
       "      <th>Result</th>\n",
       "      <th>winner</th>\n",
       "      <th>opening_eco</th>\n",
       "    </tr>\n",
       "  </thead>\n",
       "  <tbody>\n",
       "    <tr>\n",
       "      <th>0</th>\n",
       "      <td>2569</td>\n",
       "      <td>2462</td>\n",
       "      <td>0.29</td>\n",
       "      <td>1</td>\n",
       "      <td>1</td>\n",
       "      <td>D12</td>\n",
       "    </tr>\n",
       "    <tr>\n",
       "      <th>1</th>\n",
       "      <td>2581</td>\n",
       "      <td>2574</td>\n",
       "      <td>-0.22</td>\n",
       "      <td>0</td>\n",
       "      <td>0</td>\n",
       "      <td>B00</td>\n",
       "    </tr>\n",
       "    <tr>\n",
       "      <th>2</th>\n",
       "      <td>2573</td>\n",
       "      <td>2479</td>\n",
       "      <td>-3.13</td>\n",
       "      <td>0</td>\n",
       "      <td>0</td>\n",
       "      <td>B53</td>\n",
       "    </tr>\n",
       "    <tr>\n",
       "      <th>3</th>\n",
       "      <td>2602</td>\n",
       "      <td>2343</td>\n",
       "      <td>1.00</td>\n",
       "      <td>1</td>\n",
       "      <td>1</td>\n",
       "      <td>A40</td>\n",
       "    </tr>\n",
       "    <tr>\n",
       "      <th>4</th>\n",
       "      <td>2578</td>\n",
       "      <td>2575</td>\n",
       "      <td>0.91</td>\n",
       "      <td>1</td>\n",
       "      <td>1</td>\n",
       "      <td>C03</td>\n",
       "    </tr>\n",
       "  </tbody>\n",
       "</table>\n",
       "</div>"
      ],
      "text/plain": [
       "   WhiteElo  BlackElo  eval  Result  winner opening_eco\n",
       "0      2569      2462  0.29       1       1         D12\n",
       "1      2581      2574 -0.22       0       0         B00\n",
       "2      2573      2479 -3.13       0       0         B53\n",
       "3      2602      2343  1.00       1       1         A40\n",
       "4      2578      2575  0.91       1       1         C03"
      ]
     },
     "execution_count": 68,
     "metadata": {},
     "output_type": "execute_result"
    }
   ],
   "source": [
    "df.head()"
   ]
  },
  {
   "cell_type": "code",
   "execution_count": null,
   "metadata": {},
   "outputs": [
    {
     "data": {
      "text/plain": [
       "<AxesSubplot:>"
      ]
     },
     "execution_count": 69,
     "metadata": {},
     "output_type": "execute_result"
    },
    {
     "data": {
      "image/png": "[encoded data removed]",
      "text/plain": [
       "<Figure size 1200x800 with 1 Axes>"
      ]
     },
     "metadata": {
      "needs_background": "light"
     },
     "output_type": "display_data"
    }
   ],
   "source": [
    "df.winner.value_counts().plot(kind = 'bar')"
   ]
  },
  {
   "cell_type": "code",
   "execution_count": null,
   "metadata": {},
   "outputs": [
    {
     "ename": "AttributeError",
     "evalue": "'DataFrameGroupBy' object has no attribute 'rated'",
     "output_type": "error",
     "traceback": [
      "\u001b[1;31m---------------------------------------------------------------------------\u001b[0m",
      "\u001b[1;31mAttributeError\u001b[0m                            Traceback (most recent call last)",
      "\u001b[1;32m<ipython-input-70-dc6a4a0b2d1c>\u001b[0m in \u001b[0;36m<module>\u001b[1;34m\u001b[0m\n\u001b[1;32m----> 1\u001b[1;33m \u001b[0mdf\u001b[0m\u001b[1;33m.\u001b[0m\u001b[0mgroupby\u001b[0m\u001b[1;33m(\u001b[0m\u001b[1;34m'winner'\u001b[0m\u001b[1;33m)\u001b[0m\u001b[1;33m.\u001b[0m\u001b[0mrated\u001b[0m\u001b[1;33m.\u001b[0m\u001b[0mvalue_counts\u001b[0m\u001b[1;33m(\u001b[0m\u001b[1;33m)\u001b[0m\u001b[1;33m.\u001b[0m\u001b[0mplot\u001b[0m\u001b[1;33m(\u001b[0m\u001b[0mkind\u001b[0m \u001b[1;33m=\u001b[0m \u001b[1;34m'bar'\u001b[0m\u001b[1;33m)\u001b[0m\u001b[1;33m\u001b[0m\u001b[1;33m\u001b[0m\u001b[0m\n\u001b[0m",
      "\u001b[1;32mb:\\Downloads\\2023\\nqc\\lib\\site-packages\\pandas\\core\\groupby\\groupby.py\u001b[0m in \u001b[0;36m__getattr__\u001b[1;34m(self, attr)\u001b[0m\n\u001b[0;32m    702\u001b[0m \u001b[1;33m\u001b[0m\u001b[0m\n\u001b[0;32m    703\u001b[0m         raise AttributeError(\n\u001b[1;32m--> 704\u001b[1;33m             \u001b[1;34mf\"'{type(self).__name__}' object has no attribute '{attr}'\"\u001b[0m\u001b[1;33m\u001b[0m\u001b[1;33m\u001b[0m\u001b[0m\n\u001b[0m\u001b[0;32m    705\u001b[0m         )\n\u001b[0;32m    706\u001b[0m \u001b[1;33m\u001b[0m\u001b[0m\n",
      "\u001b[1;31mAttributeError\u001b[0m: 'DataFrameGroupBy' object has no attribute 'rated'"
     ]
    }
   ],
   "source": [
    "df.groupby('winner').rated.value_counts().plot(kind = 'bar')"
   ]
  },
  {
   "cell_type": "code",
   "execution_count": null,
   "metadata": {},
   "outputs": [],
   "source": [
    "df = df.dropna().copy() # it is not necessary to drop nan values"
   ]
  },
  {
   "cell_type": "code",
   "execution_count": null,
   "metadata": {},
   "outputs": [],
   "source": [
    "df.to_csv('cleaned_data')"
   ]
  },
  {
   "cell_type": "code",
   "execution_count": 144,
   "metadata": {},
   "outputs": [
    {
     "data": {
      "text/html": [
       "<div>\n",
       "<style scoped>\n",
       "    .dataframe tbody tr th:only-of-type {\n",
       "        vertical-align: middle;\n",
       "    }\n",
       "\n",
       "    .dataframe tbody tr th {\n",
       "        vertical-align: top;\n",
       "    }\n",
       "\n",
       "    .dataframe thead th {\n",
       "        text-align: right;\n",
       "    }\n",
       "</style>\n",
       "<table border=\"1\" class=\"dataframe\">\n",
       "  <thead>\n",
       "    <tr style=\"text-align: right;\">\n",
       "      <th></th>\n",
       "      <th>WhiteElo</th>\n",
       "      <th>BlackElo</th>\n",
       "      <th>eval</th>\n",
       "      <th>opening_eco</th>\n",
       "      <th>Prob_win</th>\n",
       "    </tr>\n",
       "  </thead>\n",
       "  <tbody>\n",
       "    <tr>\n",
       "      <th>0</th>\n",
       "      <td>2569</td>\n",
       "      <td>2462</td>\n",
       "      <td>0.29</td>\n",
       "      <td>0.588235</td>\n",
       "      <td>0.649295</td>\n",
       "    </tr>\n",
       "    <tr>\n",
       "      <th>1</th>\n",
       "      <td>2581</td>\n",
       "      <td>2574</td>\n",
       "      <td>-0.22</td>\n",
       "      <td>0.488636</td>\n",
       "      <td>0.510072</td>\n",
       "    </tr>\n",
       "    <tr>\n",
       "      <th>2</th>\n",
       "      <td>2573</td>\n",
       "      <td>2479</td>\n",
       "      <td>-3.13</td>\n",
       "      <td>0.555556</td>\n",
       "      <td>0.632070</td>\n",
       "    </tr>\n",
       "    <tr>\n",
       "      <th>3</th>\n",
       "      <td>2602</td>\n",
       "      <td>2343</td>\n",
       "      <td>1.00</td>\n",
       "      <td>0.553398</td>\n",
       "      <td>0.816217</td>\n",
       "    </tr>\n",
       "    <tr>\n",
       "      <th>4</th>\n",
       "      <td>2578</td>\n",
       "      <td>2575</td>\n",
       "      <td>0.91</td>\n",
       "      <td>0.333333</td>\n",
       "      <td>0.504317</td>\n",
       "    </tr>\n",
       "    <tr>\n",
       "      <th>...</th>\n",
       "      <td>...</td>\n",
       "      <td>...</td>\n",
       "      <td>...</td>\n",
       "      <td>...</td>\n",
       "      <td>...</td>\n",
       "    </tr>\n",
       "    <tr>\n",
       "      <th>9995</th>\n",
       "      <td>2487</td>\n",
       "      <td>2510</td>\n",
       "      <td>1.34</td>\n",
       "      <td>0.440000</td>\n",
       "      <td>0.466949</td>\n",
       "    </tr>\n",
       "    <tr>\n",
       "      <th>9996</th>\n",
       "      <td>2566</td>\n",
       "      <td>2697</td>\n",
       "      <td>1.36</td>\n",
       "      <td>0.553398</td>\n",
       "      <td>0.319929</td>\n",
       "    </tr>\n",
       "    <tr>\n",
       "      <th>9997</th>\n",
       "      <td>2498</td>\n",
       "      <td>2566</td>\n",
       "      <td>0.32</td>\n",
       "      <td>0.582011</td>\n",
       "      <td>0.403371</td>\n",
       "    </tr>\n",
       "    <tr>\n",
       "      <th>9998</th>\n",
       "      <td>2815</td>\n",
       "      <td>2486</td>\n",
       "      <td>0.50</td>\n",
       "      <td>0.551724</td>\n",
       "      <td>0.869197</td>\n",
       "    </tr>\n",
       "    <tr>\n",
       "      <th>9999</th>\n",
       "      <td>2414</td>\n",
       "      <td>2540</td>\n",
       "      <td>0.60</td>\n",
       "      <td>0.477612</td>\n",
       "      <td>0.326224</td>\n",
       "    </tr>\n",
       "  </tbody>\n",
       "</table>\n",
       "<p>10000 rows × 5 columns</p>\n",
       "</div>"
      ],
      "text/plain": [
       "      WhiteElo  BlackElo  eval  opening_eco  Prob_win\n",
       "0         2569      2462  0.29     0.588235  0.649295\n",
       "1         2581      2574 -0.22     0.488636  0.510072\n",
       "2         2573      2479 -3.13     0.555556  0.632070\n",
       "3         2602      2343  1.00     0.553398  0.816217\n",
       "4         2578      2575  0.91     0.333333  0.504317\n",
       "...        ...       ...   ...          ...       ...\n",
       "9995      2487      2510  1.34     0.440000  0.466949\n",
       "9996      2566      2697  1.36     0.553398  0.319929\n",
       "9997      2498      2566  0.32     0.582011  0.403371\n",
       "9998      2815      2486  0.50     0.551724  0.869197\n",
       "9999      2414      2540  0.60     0.477612  0.326224\n",
       "\n",
       "[10000 rows x 5 columns]"
      ]
     },
     "execution_count": 144,
     "metadata": {},
     "output_type": "execute_result"
    }
   ],
   "source": [
    "#features\n",
    "df['Prob_win'] = np.ones(df.shape[0])/(np.ones(df.shape[0])+np.power(10, (df['BlackElo']-df['WhiteElo'])/400))\n",
    "x = df.drop(['winner','Result'], axis = 1)\n",
    "x"
   ]
  },
  {
   "cell_type": "code",
   "execution_count": 145,
   "metadata": {},
   "outputs": [],
   "source": [
    "#target\n",
    "y = df.Result"
   ]
  },
  {
   "cell_type": "code",
   "execution_count": 101,
   "metadata": {},
   "outputs": [
    {
     "data": {
      "text/plain": [
       "0       1\n",
       "1       0\n",
       "2       0\n",
       "3       1\n",
       "4       1\n",
       "       ..\n",
       "9995    0\n",
       "9996    0\n",
       "9997    0\n",
       "9998    1\n",
       "9999    1\n",
       "Name: Result, Length: 10000, dtype: int64"
      ]
     },
     "execution_count": 101,
     "metadata": {},
     "output_type": "execute_result"
    }
   ],
   "source": [
    "y"
   ]
  },
  {
   "cell_type": "markdown",
   "metadata": {},
   "source": [
    "# Train Test split"
   ]
  },
  {
   "cell_type": "code",
   "execution_count": 146,
   "metadata": {},
   "outputs": [],
   "source": [
    "from sklearn.model_selection import train_test_split"
   ]
  },
  {
   "cell_type": "code",
   "execution_count": 147,
   "metadata": {},
   "outputs": [],
   "source": [
    "x_train, x_test, y_train, y_test = train_test_split(x, y, test_size = 0.3, random_state = 0, stratify = y)"
   ]
  },
  {
   "cell_type": "markdown",
   "metadata": {},
   "source": [
    "# Feature Scaling"
   ]
  },
  {
   "cell_type": "code",
   "execution_count": 148,
   "metadata": {},
   "outputs": [],
   "source": [
    "from sklearn.preprocessing import StandardScaler"
   ]
  },
  {
   "cell_type": "code",
   "execution_count": 149,
   "metadata": {},
   "outputs": [
    {
     "data": {
      "text/plain": [
       "StandardScaler()"
      ]
     },
     "execution_count": 149,
     "metadata": {},
     "output_type": "execute_result"
    }
   ],
   "source": [
    "scaler=StandardScaler()\n",
    "scaler.fit(x_train)"
   ]
  },
  {
   "cell_type": "code",
   "execution_count": 150,
   "metadata": {},
   "outputs": [],
   "source": [
    "x_train_scaled=scaler.transform(x_train)\n",
    "x_test_scaled = scaler.transform(x_test)"
   ]
  },
  {
   "cell_type": "code",
   "execution_count": 151,
   "metadata": {},
   "outputs": [],
   "source": [
    "#pip install xgboost"
   ]
  },
  {
   "cell_type": "code",
   "execution_count": 152,
   "metadata": {},
   "outputs": [],
   "source": [
    "#pip install catboost"
   ]
  },
  {
   "cell_type": "markdown",
   "metadata": {},
   "source": [
    "# Models"
   ]
  },
  {
   "cell_type": "markdown",
   "metadata": {},
   "source": [
    "### Model 1 Logistic Regression"
   ]
  },
  {
   "cell_type": "code",
   "execution_count": 153,
   "metadata": {},
   "outputs": [
    {
     "data": {
      "text/plain": [
       "LogisticRegression(class_weight='balanced', max_iter=100000.0)"
      ]
     },
     "execution_count": 153,
     "metadata": {},
     "output_type": "execute_result"
    }
   ],
   "source": [
    "model1 = LogisticRegression(class_weight = 'balanced',max_iter = 1e5)\n",
    "model1.fit(x_train_scaled,y_train)"
   ]
  },
  {
   "cell_type": "code",
   "execution_count": 154,
   "metadata": {},
   "outputs": [],
   "source": [
    "y_pred1 = model1.predict(x_test_scaled)"
   ]
  },
  {
   "cell_type": "code",
   "execution_count": 155,
   "metadata": {},
   "outputs": [
    {
     "name": "stdout",
     "output_type": "stream",
     "text": [
      "0.6483333333333333\n",
      "0.6679511881824021\n",
      "0.6590621039290241\n"
     ]
    }
   ],
   "source": [
    "print(accuracy_score(y_test, y_pred1))\n",
    "print(precision_score(y_test, y_pred1))\n",
    "print(recall_score(y_test, y_pred1))\n",
    "prob_1 = model1.predict_proba(x_test_scaled)"
   ]
  },
  {
   "cell_type": "code",
   "execution_count": 156,
   "metadata": {},
   "outputs": [
    {
     "name": "stdout",
     "output_type": "stream",
     "text": [
      "              precision    recall  f1-score   support\n",
      "\n",
      "           0       0.63      0.64      0.63      1422\n",
      "           1       0.67      0.66      0.66      1578\n",
      "\n",
      "    accuracy                           0.65      3000\n",
      "   macro avg       0.65      0.65      0.65      3000\n",
      "weighted avg       0.65      0.65      0.65      3000\n",
      "\n"
     ]
    }
   ],
   "source": [
    "print(classification_report(y_test, y_pred1))"
   ]
  },
  {
   "cell_type": "markdown",
   "metadata": {},
   "source": [
    "# Feature Importance"
   ]
  },
  {
   "cell_type": "code",
   "execution_count": 157,
   "metadata": {},
   "outputs": [],
   "source": [
    "#pd.Series(model1.feature_importances_, index=x_train.columns).sort_values().plot.barh()"
   ]
  },
  {
   "cell_type": "markdown",
   "metadata": {},
   "source": [
    "### Model 2 KNN"
   ]
  },
  {
   "cell_type": "code",
   "execution_count": 158,
   "metadata": {},
   "outputs": [],
   "source": [
    "model2= KNeighborsClassifier(2)\n",
    "model2.fit(x_train_scaled, y_train)\n",
    "y_pred2= model2.predict(x_test_scaled)"
   ]
  },
  {
   "cell_type": "code",
   "execution_count": 159,
   "metadata": {},
   "outputs": [
    {
     "name": "stdout",
     "output_type": "stream",
     "text": [
      "0.549\n",
      "0.6203208556149733\n",
      "0.36755386565272496\n"
     ]
    }
   ],
   "source": [
    "print(accuracy_score(y_test, y_pred2))\n",
    "print(precision_score(y_test, y_pred2))\n",
    "print(recall_score(y_test, y_pred2))\n",
    "prob_2 = model1.predict_proba(x_test_scaled)"
   ]
  },
  {
   "cell_type": "code",
   "execution_count": 160,
   "metadata": {},
   "outputs": [
    {
     "name": "stdout",
     "output_type": "stream",
     "text": [
      "              precision    recall  f1-score   support\n",
      "\n",
      "           0       0.52      0.75      0.61      1422\n",
      "           1       0.62      0.37      0.46      1578\n",
      "\n",
      "    accuracy                           0.55      3000\n",
      "   macro avg       0.57      0.56      0.54      3000\n",
      "weighted avg       0.57      0.55      0.53      3000\n",
      "\n"
     ]
    }
   ],
   "source": [
    "print(classification_report(y_test, y_pred2))"
   ]
  },
  {
   "cell_type": "markdown",
   "metadata": {},
   "source": [
    "# Feature importance"
   ]
  },
  {
   "cell_type": "code",
   "execution_count": 161,
   "metadata": {},
   "outputs": [],
   "source": [
    "#importances = CV_RFR_regr.best_estimator_.feature_importances_"
   ]
  },
  {
   "cell_type": "markdown",
   "metadata": {},
   "source": [
    "### Model 3 Gaussian"
   ]
  },
  {
   "cell_type": "code",
   "execution_count": 162,
   "metadata": {},
   "outputs": [],
   "source": [
    "model3= GaussianNB()\n",
    "model3.fit(x_train_scaled, y_train)\n",
    "y_pred3= model3.predict(x_test_scaled)"
   ]
  },
  {
   "cell_type": "code",
   "execution_count": 163,
   "metadata": {},
   "outputs": [
    {
     "name": "stdout",
     "output_type": "stream",
     "text": [
      "[[ 852  570]\n",
      " [ 508 1070]]\n",
      "0.6406666666666667\n",
      "0.6524390243902439\n",
      "0.6780735107731305\n"
     ]
    }
   ],
   "source": [
    "print(confusion_matrix(y_test, y_pred3))\n",
    "print(accuracy_score(y_test, y_pred3))\n",
    "print(precision_score(y_test, y_pred3))\n",
    "print(recall_score(y_test, y_pred3))\n",
    "prob_3 = model3.predict_proba(x_test_scaled)"
   ]
  },
  {
   "cell_type": "code",
   "execution_count": 164,
   "metadata": {},
   "outputs": [
    {
     "name": "stdout",
     "output_type": "stream",
     "text": [
      "              precision    recall  f1-score   support\n",
      "\n",
      "           0       0.63      0.60      0.61      1422\n",
      "           1       0.65      0.68      0.67      1578\n",
      "\n",
      "    accuracy                           0.64      3000\n",
      "   macro avg       0.64      0.64      0.64      3000\n",
      "weighted avg       0.64      0.64      0.64      3000\n",
      "\n"
     ]
    }
   ],
   "source": [
    "print(classification_report(y_test, y_pred3))"
   ]
  },
  {
   "cell_type": "markdown",
   "metadata": {},
   "source": [
    "# Feature importance"
   ]
  },
  {
   "cell_type": "code",
   "execution_count": null,
   "metadata": {},
   "outputs": [],
   "source": []
  },
  {
   "cell_type": "markdown",
   "metadata": {},
   "source": [
    "### Model 4 support vector machine"
   ]
  },
  {
   "cell_type": "code",
   "execution_count": 165,
   "metadata": {},
   "outputs": [],
   "source": [
    "model4= SVC(probability =True)\n",
    "model4.fit(x_train_scaled, y_train)\n",
    "y_pred4= model4.predict(x_test_scaled)"
   ]
  },
  {
   "cell_type": "code",
   "execution_count": 166,
   "metadata": {},
   "outputs": [
    {
     "name": "stdout",
     "output_type": "stream",
     "text": [
      "0.6503333333333333\n",
      "0.656047197640118\n",
      "0.7046894803548795\n"
     ]
    }
   ],
   "source": [
    "print(accuracy_score(y_test, y_pred4))\n",
    "print(precision_score(y_test, y_pred4))\n",
    "print(recall_score(y_test, y_pred4))\n",
    "prob_4 = model4.predict_proba(x_test_scaled)"
   ]
  },
  {
   "cell_type": "code",
   "execution_count": 167,
   "metadata": {},
   "outputs": [
    {
     "name": "stdout",
     "output_type": "stream",
     "text": [
      "              precision    recall  f1-score   support\n",
      "\n",
      "           0       0.64      0.59      0.62      1422\n",
      "           1       0.66      0.70      0.68      1578\n",
      "\n",
      "    accuracy                           0.65      3000\n",
      "   macro avg       0.65      0.65      0.65      3000\n",
      "weighted avg       0.65      0.65      0.65      3000\n",
      "\n"
     ]
    }
   ],
   "source": [
    "print(classification_report(y_test, y_pred4))"
   ]
  },
  {
   "cell_type": "markdown",
   "metadata": {},
   "source": [
    "### Model 5 Decision Tree"
   ]
  },
  {
   "cell_type": "code",
   "execution_count": 168,
   "metadata": {},
   "outputs": [],
   "source": [
    "model5= DecisionTreeClassifier()\n",
    "model5.fit(x_train_scaled, y_train)\n",
    "y_pred5= model5.predict(x_test_scaled)"
   ]
  },
  {
   "cell_type": "code",
   "execution_count": 169,
   "metadata": {},
   "outputs": [
    {
     "name": "stdout",
     "output_type": "stream",
     "text": [
      "0.5573333333333333\n",
      "0.5791139240506329\n",
      "0.5798479087452472\n"
     ]
    }
   ],
   "source": [
    "print(accuracy_score(y_test, y_pred5))\n",
    "print(precision_score(y_test, y_pred5))\n",
    "print(recall_score(y_test, y_pred5))\n",
    "prob_5 = model5.predict_proba(x_test_scaled)"
   ]
  },
  {
   "cell_type": "code",
   "execution_count": 170,
   "metadata": {},
   "outputs": [
    {
     "name": "stdout",
     "output_type": "stream",
     "text": [
      "              precision    recall  f1-score   support\n",
      "\n",
      "           0       0.53      0.53      0.53      1422\n",
      "           1       0.58      0.58      0.58      1578\n",
      "\n",
      "    accuracy                           0.56      3000\n",
      "   macro avg       0.56      0.56      0.56      3000\n",
      "weighted avg       0.56      0.56      0.56      3000\n",
      "\n"
     ]
    }
   ],
   "source": [
    "print(classification_report(y_test, y_pred5))"
   ]
  },
  {
   "cell_type": "markdown",
   "metadata": {},
   "source": [
    "# Feature Importance"
   ]
  },
  {
   "cell_type": "code",
   "execution_count": 171,
   "metadata": {},
   "outputs": [
    {
     "data": {
      "text/plain": [
       "<AxesSubplot:>"
      ]
     },
     "execution_count": 171,
     "metadata": {},
     "output_type": "execute_result"
    },
    {
     "data": {
      "image/png": "[encoded data removed]",
      "text/plain": [
       "<Figure size 1200x800 with 1 Axes>"
      ]
     },
     "metadata": {
      "needs_background": "light"
     },
     "output_type": "display_data"
    }
   ],
   "source": [
    "pd.Series(model5.feature_importances_, index=x_train.columns).sort_values().plot.barh()"
   ]
  },
  {
   "cell_type": "markdown",
   "metadata": {},
   "source": [
    "### Model 6 Random forest classifier"
   ]
  },
  {
   "cell_type": "code",
   "execution_count": 172,
   "metadata": {},
   "outputs": [],
   "source": [
    "model6=RandomForestClassifier(class_weight='balanced')\n",
    "model6.fit(x_train_scaled, y_train)\n",
    "y_pred6 = model6.predict(x_test_scaled)"
   ]
  },
  {
   "cell_type": "code",
   "execution_count": 173,
   "metadata": {},
   "outputs": [
    {
     "name": "stdout",
     "output_type": "stream",
     "text": [
      "0.6156666666666667\n",
      "0.6291793313069909\n",
      "0.655893536121673\n"
     ]
    }
   ],
   "source": [
    "print(accuracy_score(y_test, y_pred6))\n",
    "print(precision_score(y_test, y_pred6))\n",
    "print(recall_score(y_test, y_pred6))\n",
    "prob_6 = model6.predict_proba(x_test_scaled)"
   ]
  },
  {
   "cell_type": "code",
   "execution_count": 174,
   "metadata": {},
   "outputs": [
    {
     "name": "stdout",
     "output_type": "stream",
     "text": [
      "              precision    recall  f1-score   support\n",
      "\n",
      "           0       0.60      0.57      0.58      1422\n",
      "           1       0.63      0.66      0.64      1578\n",
      "\n",
      "    accuracy                           0.62      3000\n",
      "   macro avg       0.61      0.61      0.61      3000\n",
      "weighted avg       0.61      0.62      0.62      3000\n",
      "\n"
     ]
    }
   ],
   "source": [
    "print(classification_report(y_test, y_pred6))"
   ]
  },
  {
   "cell_type": "markdown",
   "metadata": {},
   "source": [
    "# Feature Importance"
   ]
  },
  {
   "cell_type": "code",
   "execution_count": 175,
   "metadata": {},
   "outputs": [
    {
     "data": {
      "text/plain": [
       "<AxesSubplot:>"
      ]
     },
     "execution_count": 175,
     "metadata": {},
     "output_type": "execute_result"
    },
    {
     "data": {
      "image/png": "[encoded data removed]",
      "text/plain": [
       "<Figure size 1200x800 with 1 Axes>"
      ]
     },
     "metadata": {
      "needs_background": "light"
     },
     "output_type": "display_data"
    }
   ],
   "source": [
    "pd.Series(model6.feature_importances_, index=x_train.columns).sort_values().plot.barh()"
   ]
  },
  {
   "cell_type": "markdown",
   "metadata": {},
   "source": [
    "### Model 7 AdaBoost"
   ]
  },
  {
   "cell_type": "code",
   "execution_count": 176,
   "metadata": {},
   "outputs": [],
   "source": [
    "model7=AdaBoostClassifier()\n",
    "model7.fit(x_train_scaled, y_train)\n",
    "y_pred7 = model7.predict(x_test_scaled)"
   ]
  },
  {
   "cell_type": "code",
   "execution_count": 177,
   "metadata": {},
   "outputs": [
    {
     "name": "stdout",
     "output_type": "stream",
     "text": [
      "0.64\n",
      "0.6456140350877193\n",
      "0.6996197718631179\n"
     ]
    }
   ],
   "source": [
    "print(accuracy_score(y_test, y_pred7))\n",
    "print(precision_score(y_test, y_pred7))\n",
    "print(recall_score(y_test, y_pred7))\n",
    "prob_7 = model7.predict_proba(x_test_scaled)"
   ]
  },
  {
   "cell_type": "code",
   "execution_count": 178,
   "metadata": {},
   "outputs": [
    {
     "name": "stdout",
     "output_type": "stream",
     "text": [
      "              precision    recall  f1-score   support\n",
      "\n",
      "           0       0.63      0.57      0.60      1422\n",
      "           1       0.65      0.70      0.67      1578\n",
      "\n",
      "    accuracy                           0.64      3000\n",
      "   macro avg       0.64      0.64      0.64      3000\n",
      "weighted avg       0.64      0.64      0.64      3000\n",
      "\n"
     ]
    }
   ],
   "source": [
    "print(classification_report(y_test, y_pred7))"
   ]
  },
  {
   "cell_type": "markdown",
   "metadata": {},
   "source": [
    "# Feature Importance"
   ]
  },
  {
   "cell_type": "code",
   "execution_count": 179,
   "metadata": {},
   "outputs": [
    {
     "data": {
      "text/plain": [
       "<AxesSubplot:>"
      ]
     },
     "execution_count": 179,
     "metadata": {},
     "output_type": "execute_result"
    },
    {
     "data": {
      "image/png": "[encoded data removed]",
      "text/plain": [
       "<Figure size 1200x800 with 1 Axes>"
      ]
     },
     "metadata": {
      "needs_background": "light"
     },
     "output_type": "display_data"
    }
   ],
   "source": [
    "pd.Series(model7.feature_importances_, index=x_train.columns).sort_values().plot.barh()"
   ]
  },
  {
   "cell_type": "markdown",
   "metadata": {},
   "source": [
    "### Modle 8 CatBoost "
   ]
  },
  {
   "cell_type": "code",
   "execution_count": 180,
   "metadata": {},
   "outputs": [
    {
     "ename": "NameError",
     "evalue": "name 'CatBoostClassifier' is not defined",
     "output_type": "error",
     "traceback": [
      "\u001b[1;31m---------------------------------------------------------------------------\u001b[0m",
      "\u001b[1;31mNameError\u001b[0m                                 Traceback (most recent call last)",
      "\u001b[1;32m<ipython-input-180-ea5b9e9cd021>\u001b[0m in \u001b[0;36m<module>\u001b[1;34m\u001b[0m\n\u001b[1;32m----> 1\u001b[1;33m \u001b[0mmodel8\u001b[0m\u001b[1;33m=\u001b[0m\u001b[0mCatBoostClassifier\u001b[0m\u001b[1;33m(\u001b[0m\u001b[1;33m)\u001b[0m\u001b[1;33m\u001b[0m\u001b[1;33m\u001b[0m\u001b[0m\n\u001b[0m\u001b[0;32m      2\u001b[0m \u001b[0mmodel8\u001b[0m\u001b[1;33m.\u001b[0m\u001b[0mfit\u001b[0m\u001b[1;33m(\u001b[0m\u001b[0mx_train_scaled\u001b[0m\u001b[1;33m,\u001b[0m \u001b[0my_train\u001b[0m\u001b[1;33m.\u001b[0m\u001b[0mmap\u001b[0m\u001b[1;33m(\u001b[0m\u001b[0mint\u001b[0m\u001b[1;33m)\u001b[0m\u001b[1;33m)\u001b[0m\u001b[1;33m\u001b[0m\u001b[1;33m\u001b[0m\u001b[0m\n\u001b[0;32m      3\u001b[0m \u001b[0my_pred8\u001b[0m \u001b[1;33m=\u001b[0m \u001b[0mmodel8\u001b[0m\u001b[1;33m.\u001b[0m\u001b[0mpredict\u001b[0m\u001b[1;33m(\u001b[0m\u001b[0mx_test_scaled\u001b[0m\u001b[1;33m)\u001b[0m\u001b[1;33m\u001b[0m\u001b[1;33m\u001b[0m\u001b[0m\n",
      "\u001b[1;31mNameError\u001b[0m: name 'CatBoostClassifier' is not defined"
     ]
    }
   ],
   "source": [
    "model8=CatBoostClassifier()\n",
    "model8.fit(x_train_scaled, y_train.map(int))\n",
    "y_pred8 = model8.predict(x_test_scaled)"
   ]
  },
  {
   "cell_type": "code",
   "execution_count": null,
   "metadata": {},
   "outputs": [
    {
     "name": "stdout",
     "output_type": "stream",
     "text": [
      "0.6666666666666666\n",
      "0.6675684815691579\n",
      "0.6590984974958264\n"
     ]
    }
   ],
   "source": [
    "print(accuracy_score(y_test, y_pred8))\n",
    "print(precision_score(y_test, y_pred8))\n",
    "print(recall_score(y_test, y_pred8))\n",
    "prob_8 = model8.predict_proba(x_test_scaled)"
   ]
  },
  {
   "cell_type": "code",
   "execution_count": null,
   "metadata": {},
   "outputs": [
    {
     "name": "stdout",
     "output_type": "stream",
     "text": [
      "              precision    recall  f1-score   support\n",
      "\n",
      "           0       0.67      0.67      0.67      3017\n",
      "           1       0.67      0.66      0.66      2995\n",
      "\n",
      "    accuracy                           0.67      6012\n",
      "   macro avg       0.67      0.67      0.67      6012\n",
      "weighted avg       0.67      0.67      0.67      6012\n",
      "\n"
     ]
    }
   ],
   "source": [
    "print(classification_report(y_test, y_pred8))"
   ]
  },
  {
   "cell_type": "markdown",
   "metadata": {},
   "source": [
    "# Feature Importance"
   ]
  },
  {
   "cell_type": "code",
   "execution_count": null,
   "metadata": {},
   "outputs": [
    {
     "data": {
      "text/plain": [
       "<matplotlib.axes._subplots.AxesSubplot at 0x7fc996bb1d90>"
      ]
     },
     "execution_count": 91,
     "metadata": {},
     "output_type": "execute_result"
    },
    {
     "data": {
      "image/png": "[encoded data removed]",
      "text/plain": [
       "<Figure size 1200x800 with 1 Axes>"
      ]
     },
     "metadata": {
      "needs_background": "light"
     },
     "output_type": "display_data"
    }
   ],
   "source": [
    "pd.Series(model8.feature_importances_, index=x_train.columns).sort_values().plot.barh()"
   ]
  },
  {
   "cell_type": "markdown",
   "metadata": {},
   "source": [
    "### Model 9 XGBoost "
   ]
  },
  {
   "cell_type": "code",
   "execution_count": null,
   "metadata": {},
   "outputs": [
    {
     "name": "stderr",
     "output_type": "stream",
     "text": [
      "b:\\Downloads\\2023\\nqc\\lib\\site-packages\\xgboost\\sklearn.py:1224: UserWarning: The use of label encoder in XGBClassifier is deprecated and will be removed in a future release. To remove this warning, do the following: 1) Pass option use_label_encoder=False when constructing XGBClassifier object; and 2) Encode your labels (y) as integers starting with 0, i.e. 0, 1, 2, ..., [num_class - 1].\n",
      "  warnings.warn(label_encoder_deprecation_msg, UserWarning)\n"
     ]
    },
    {
     "name": "stdout",
     "output_type": "stream",
     "text": [
      "[12:54:13] WARNING: C:/Users/Administrator/workspace/xgboost-win64_release_1.5.1/src/learner.cc:1115: Starting in XGBoost 1.3.0, the default evaluation metric used with the objective 'binary:logistic' was changed from 'error' to 'logloss'. Explicitly set eval_metric if you'd like to restore the old behavior.\n"
     ]
    }
   ],
   "source": [
    "model9=XGBClassifier()\n",
    "model9.fit(x_train_scaled, y_train)\n",
    "y_pred9 = model9.predict(x_test_scaled)"
   ]
  },
  {
   "cell_type": "code",
   "execution_count": null,
   "metadata": {},
   "outputs": [
    {
     "name": "stdout",
     "output_type": "stream",
     "text": [
      "0.6133333333333333\n",
      "0.6254501800720288\n",
      "0.6603295310519645\n"
     ]
    }
   ],
   "source": [
    "print(accuracy_score(y_test, y_pred9))\n",
    "print(precision_score(y_test, y_pred9))\n",
    "print(recall_score(y_test, y_pred9))\n",
    "prob_9 = model9.predict_proba(x_test_scaled)"
   ]
  },
  {
   "cell_type": "code",
   "execution_count": null,
   "metadata": {},
   "outputs": [
    {
     "name": "stdout",
     "output_type": "stream",
     "text": [
      "              precision    recall  f1-score   support\n",
      "\n",
      "           0       0.60      0.56      0.58      1422\n",
      "           1       0.63      0.66      0.64      1578\n",
      "\n",
      "    accuracy                           0.61      3000\n",
      "   macro avg       0.61      0.61      0.61      3000\n",
      "weighted avg       0.61      0.61      0.61      3000\n",
      "\n"
     ]
    }
   ],
   "source": [
    "print(classification_report(y_test, y_pred9))"
   ]
  },
  {
   "cell_type": "markdown",
   "metadata": {},
   "source": [
    "# Feature Importance"
   ]
  },
  {
   "cell_type": "code",
   "execution_count": null,
   "metadata": {},
   "outputs": [
    {
     "data": {
      "text/plain": [
       "<AxesSubplot:>"
      ]
     },
     "execution_count": 137,
     "metadata": {},
     "output_type": "execute_result"
    },
    {
     "data": {
      "image/png": "[encoded data removed]",
      "text/plain": [
       "<Figure size 1200x800 with 1 Axes>"
      ]
     },
     "metadata": {
      "needs_background": "light"
     },
     "output_type": "display_data"
    }
   ],
   "source": [
    "pd.Series(model9.feature_importances_, index=x_train.columns).sort_values().plot.barh()"
   ]
  },
  {
   "cell_type": "markdown",
   "metadata": {},
   "source": [
    "### Model 10 LGBM"
   ]
  },
  {
   "cell_type": "code",
   "execution_count": null,
   "metadata": {},
   "outputs": [],
   "source": [
    "model10=LGBMClassifier()\n",
    "model10.fit(x_train_scaled, y_train)\n",
    "y_pred10 = model10.predict(x_test_scaled)"
   ]
  },
  {
   "cell_type": "code",
   "execution_count": null,
   "metadata": {},
   "outputs": [
    {
     "name": "stdout",
     "output_type": "stream",
     "text": [
      "0.6256666666666667\n",
      "0.6369656833232992\n",
      "0.670468948035488\n"
     ]
    }
   ],
   "source": [
    "print(accuracy_score(y_test, y_pred10))\n",
    "print(precision_score(y_test, y_pred10))\n",
    "print(recall_score(y_test, y_pred10))\n",
    "prob_10 = model10.predict_proba(x_test_scaled)"
   ]
  },
  {
   "cell_type": "code",
   "execution_count": null,
   "metadata": {},
   "outputs": [
    {
     "name": "stdout",
     "output_type": "stream",
     "text": [
      "              precision    recall  f1-score   support\n",
      "\n",
      "           0       0.61      0.58      0.59      1422\n",
      "           1       0.64      0.67      0.65      1578\n",
      "\n",
      "    accuracy                           0.63      3000\n",
      "   macro avg       0.62      0.62      0.62      3000\n",
      "weighted avg       0.62      0.63      0.62      3000\n",
      "\n"
     ]
    }
   ],
   "source": [
    "print(classification_report(y_test, y_pred10))"
   ]
  },
  {
   "cell_type": "markdown",
   "metadata": {},
   "source": [
    "# Feature Importance"
   ]
  },
  {
   "cell_type": "code",
   "execution_count": null,
   "metadata": {},
   "outputs": [
    {
     "data": {
      "text/plain": [
       "<AxesSubplot:>"
      ]
     },
     "execution_count": 141,
     "metadata": {},
     "output_type": "execute_result"
    },
    {
     "data": {
      "image/png": "[encoded data removed]",
      "text/plain": [
       "<Figure size 1200x800 with 1 Axes>"
      ]
     },
     "metadata": {
      "needs_background": "light"
     },
     "output_type": "display_data"
    }
   ],
   "source": [
    "pd.Series(model10.feature_importances_, index=x_train.columns).sort_values().plot.barh()"
   ]
  },
  {
   "cell_type": "markdown",
   "metadata": {},
   "source": [
    "# Model Comparison"
   ]
  },
  {
   "cell_type": "code",
   "execution_count": null,
   "metadata": {},
   "outputs": [
    {
     "ename": "NameError",
     "evalue": "name 'model8' is not defined",
     "output_type": "error",
     "traceback": [
      "\u001b[1;31m---------------------------------------------------------------------------\u001b[0m",
      "\u001b[1;31mNameError\u001b[0m                                 Traceback (most recent call last)",
      "\u001b[1;32m<ipython-input-142-8c783c4c3747>\u001b[0m in \u001b[0;36m<module>\u001b[1;34m\u001b[0m\n\u001b[0;32m      1\u001b[0m \u001b[0ma\u001b[0m\u001b[1;33m,\u001b[0m \u001b[0mp\u001b[0m\u001b[1;33m,\u001b[0m \u001b[0mr\u001b[0m\u001b[1;33m,\u001b[0m \u001b[0mf\u001b[0m \u001b[1;33m=\u001b[0m \u001b[1;33m[\u001b[0m\u001b[1;33m]\u001b[0m\u001b[1;33m,\u001b[0m \u001b[1;33m[\u001b[0m\u001b[1;33m]\u001b[0m\u001b[1;33m,\u001b[0m \u001b[1;33m[\u001b[0m\u001b[1;33m]\u001b[0m\u001b[1;33m,\u001b[0m \u001b[1;33m[\u001b[0m\u001b[1;33m]\u001b[0m\u001b[1;33m\u001b[0m\u001b[1;33m\u001b[0m\u001b[0m\n\u001b[1;32m----> 2\u001b[1;33m \u001b[1;32mfor\u001b[0m \u001b[0mmodel\u001b[0m \u001b[1;32min\u001b[0m \u001b[1;33m[\u001b[0m\u001b[0mmodel1\u001b[0m\u001b[1;33m,\u001b[0m\u001b[0mmodel2\u001b[0m\u001b[1;33m,\u001b[0m \u001b[0mmodel3\u001b[0m\u001b[1;33m,\u001b[0m \u001b[0mmodel4\u001b[0m\u001b[1;33m,\u001b[0m \u001b[0mmodel5\u001b[0m\u001b[1;33m,\u001b[0m \u001b[0mmodel6\u001b[0m\u001b[1;33m,\u001b[0m \u001b[0mmodel7\u001b[0m\u001b[1;33m,\u001b[0m \u001b[0mmodel8\u001b[0m\u001b[1;33m,\u001b[0m \u001b[0mmodel9\u001b[0m\u001b[1;33m,\u001b[0m \u001b[0mmodel10\u001b[0m\u001b[1;33m]\u001b[0m\u001b[1;33m:\u001b[0m\u001b[1;33m\u001b[0m\u001b[1;33m\u001b[0m\u001b[0m\n\u001b[0m\u001b[0;32m      3\u001b[0m     \u001b[0ma\u001b[0m\u001b[1;33m.\u001b[0m\u001b[0mappend\u001b[0m\u001b[1;33m(\u001b[0m\u001b[0maccuracy_score\u001b[0m\u001b[1;33m(\u001b[0m\u001b[0my_test\u001b[0m\u001b[1;33m,\u001b[0m \u001b[0mmodel\u001b[0m\u001b[1;33m.\u001b[0m\u001b[0mpredict\u001b[0m\u001b[1;33m(\u001b[0m\u001b[0mx_test_scaled\u001b[0m\u001b[1;33m)\u001b[0m\u001b[1;33m)\u001b[0m\u001b[1;33m)\u001b[0m\u001b[1;33m\u001b[0m\u001b[1;33m\u001b[0m\u001b[0m\n\u001b[0;32m      4\u001b[0m     \u001b[0mp\u001b[0m\u001b[1;33m.\u001b[0m\u001b[0mappend\u001b[0m\u001b[1;33m(\u001b[0m\u001b[0mprecision_score\u001b[0m\u001b[1;33m(\u001b[0m\u001b[0my_test\u001b[0m\u001b[1;33m,\u001b[0m \u001b[0mmodel\u001b[0m\u001b[1;33m.\u001b[0m\u001b[0mpredict\u001b[0m\u001b[1;33m(\u001b[0m\u001b[0mx_test_scaled\u001b[0m\u001b[1;33m)\u001b[0m\u001b[1;33m)\u001b[0m\u001b[1;33m)\u001b[0m\u001b[1;33m\u001b[0m\u001b[1;33m\u001b[0m\u001b[0m\n\u001b[0;32m      5\u001b[0m     \u001b[0mr\u001b[0m\u001b[1;33m.\u001b[0m\u001b[0mappend\u001b[0m\u001b[1;33m(\u001b[0m\u001b[0mrecall_score\u001b[0m\u001b[1;33m(\u001b[0m\u001b[0my_test\u001b[0m\u001b[1;33m,\u001b[0m \u001b[0mmodel\u001b[0m\u001b[1;33m.\u001b[0m\u001b[0mpredict\u001b[0m\u001b[1;33m(\u001b[0m\u001b[0mx_test_scaled\u001b[0m\u001b[1;33m)\u001b[0m\u001b[1;33m)\u001b[0m\u001b[1;33m)\u001b[0m\u001b[1;33m\u001b[0m\u001b[1;33m\u001b[0m\u001b[0m\n",
      "\u001b[1;31mNameError\u001b[0m: name 'model8' is not defined"
     ]
    }
   ],
   "source": [
    "a, p, r, f = [], [], [], []\n",
    "for model in [model1,model2, model3, model4, model5, model6, model7, model8, model9, model10]:\n",
    "    a.append(accuracy_score(y_test, model.predict(x_test_scaled)))\n",
    "    p.append(precision_score(y_test, model.predict(x_test_scaled)))\n",
    "    r.append(recall_score(y_test, model.predict(x_test_scaled)))\n",
    "    f.append(f1_score(y_test, model.predict(x_test_scaled)))"
   ]
  },
  {
   "cell_type": "code",
   "execution_count": null,
   "metadata": {},
   "outputs": [],
   "source": [
    "model_score = pd.DataFrame([a,p,r,f],\n",
    "             columns = ['LR',\n",
    "                        'KNN',\n",
    "                        'Gausssian',\n",
    "                        'SVS',\n",
    "                        'DT',\n",
    "                        'RF',\n",
    "                        'AdaB',\n",
    "                        'CatB',\n",
    "                        'XGB',\n",
    "                        'LGBM']).T.sort_values(by=3, ascending=False).rename(columns={0:'Accuracy', 1: 'Precision', 2: 'Recall', 3: 'F1',}).round(4) "
   ]
  },
  {
   "cell_type": "code",
   "execution_count": null,
   "metadata": {},
   "outputs": [
    {
     "data": {
      "image/png": "[encoded data removed]",
      "text/plain": [
       "<Figure size 1000x1000 with 2 Axes>"
      ]
     },
     "metadata": {
      "needs_background": "light"
     },
     "output_type": "display_data"
    }
   ],
   "source": [
    "# Create a heatmap of the summary\n",
    "plt.figure(figsize= (10,10))\n",
    "sns.heatmap(model_score, annot=True, cmap = 'coolwarm')\n",
    "plt.show()"
   ]
  },
  {
   "cell_type": "code",
   "execution_count": null,
   "metadata": {},
   "outputs": [],
   "source": [
    "#x_test_scaled # I dont know who is going to churn, but I want to know\n",
    "\n",
    "#x_test['prediction']=model10.predict(x_test_scaled)"
   ]
  },
  {
   "cell_type": "code",
   "execution_count": null,
   "metadata": {},
   "outputs": [],
   "source": [
    "#x_test.sample(10)"
   ]
  },
  {
   "cell_type": "code",
   "execution_count": null,
   "metadata": {},
   "outputs": [],
   "source": [
    "#model10.predict_proba(x_test_scaled)[:,1] "
   ]
  },
  {
   "cell_type": "markdown",
   "metadata": {},
   "source": [
    "## AUC-ROC curve "
   ]
  },
  {
   "cell_type": "code",
   "execution_count": null,
   "metadata": {},
   "outputs": [],
   "source": [
    "from sklearn.metrics import roc_curve"
   ]
  },
  {
   "cell_type": "code",
   "execution_count": null,
   "metadata": {},
   "outputs": [],
   "source": [
    "# roc curve for models\n",
    "fpr1, tpr1, thresh1 = roc_curve(y_test, prob_1[:,1], pos_label=1)\n",
    "fpr2, tpr2, thresh2 = roc_curve(y_test, prob_2[:,1], pos_label=1)\n",
    "fpr3, tpr3, thresh3 = roc_curve(y_test, prob_3[:,1], pos_label=1)\n",
    "fpr4, tpr4, thresh4 = roc_curve(y_test, prob_4[:,1], pos_label=1)\n",
    "fpr5, tpr5, thresh5 = roc_curve(y_test, prob_5[:,1], pos_label=1)\n",
    "fpr6, tpr6, thresh6 = roc_curve(y_test, prob_6[:,1], pos_label=1)\n",
    "fpr7, tpr7, thresh7 = roc_curve(y_test, prob_7[:,1], pos_label=1)\n",
    "fpr8, tpr8, thresh8 = roc_curve(y_test, prob_8[:,1], pos_label=1)\n",
    "fpr9, tpr9, thresh9 = roc_curve(y_test, prob_9[:,1], pos_label=1)\n",
    "fpr10, tpr10, thresh10 = roc_curve(y_test, prob_10[:,1], pos_label=1)\n",
    "\n",
    "# roc curve for tpr = fpr \n",
    "random_probs = [0 for i in range(len(y_test))]\n",
    "p_fpr, p_tpr, _ = roc_curve(y_test, random_probs, pos_label=1)"
   ]
  },
  {
   "cell_type": "code",
   "execution_count": null,
   "metadata": {},
   "outputs": [
    {
     "name": "stdout",
     "output_type": "stream",
     "text": [
      "0.7245614306907491 0.7245614306907491 0.6720511979141017 0.7220967107370975 0.6144523271854594 0.7255057180152757 0.7166697561896057 0.7308646661682852 0.7220688773632775 0.7296366776358564\n"
     ]
    }
   ],
   "source": [
    "from sklearn.metrics import roc_auc_score\n",
    "\n",
    "# auc scores\n",
    "auc_score1 = roc_auc_score(y_test, prob_1[:,1])\n",
    "auc_score2 = roc_auc_score(y_test, prob_2[:,1])\n",
    "auc_score3 = roc_auc_score(y_test, prob_3[:,1])\n",
    "auc_score4 = roc_auc_score(y_test, prob_4[:,1])\n",
    "auc_score5 = roc_auc_score(y_test, prob_5[:,1])\n",
    "auc_score6 = roc_auc_score(y_test, prob_6[:,1])\n",
    "auc_score7 = roc_auc_score(y_test, prob_7[:,1])\n",
    "auc_score8 = roc_auc_score(y_test, prob_8[:,1])\n",
    "auc_score9 = roc_auc_score(y_test, prob_9[:,1])\n",
    "auc_score10 = roc_auc_score(y_test, prob_10[:,1])\n",
    "\n",
    "print(auc_score1, auc_score2,auc_score3, auc_score4, auc_score5, auc_score6, auc_score7, auc_score8, auc_score9, auc_score10)"
   ]
  },
  {
   "cell_type": "code",
   "execution_count": null,
   "metadata": {},
   "outputs": [
    {
     "data": {
      "image/png": "[encoded data removed]",
      "text/plain": [
       "<Figure size 800x550 with 1 Axes>"
      ]
     },
     "metadata": {},
     "output_type": "display_data"
    }
   ],
   "source": [
    "# matplotlib\n",
    "import matplotlib.pyplot as plt\n",
    "plt.style.use('seaborn')\n",
    "\n",
    "# plot roc curves\n",
    "plt.plot(fpr1, tpr1, linestyle='--',color='orange', label='Logistic Regression')\n",
    "plt.plot(fpr2, tpr2, linestyle='--',color='green', label='KNN')\n",
    "plt.plot(fpr3, tpr3, linestyle='--',color='pink', label='Gausssian')\n",
    "plt.plot(fpr4, tpr4, linestyle='--',color='black', label='SVC')\n",
    "plt.plot(fpr5, tpr5, linestyle='--',color='red', label='DT')\n",
    "plt.plot(fpr6, tpr6, linestyle='--',color='yellow', label='RF')\n",
    "plt.plot(fpr7, tpr7, linestyle='--',color='deeppink', label='AdaB')\n",
    "plt.plot(fpr8, tpr8, linestyle='--',color='magenta', label='CatB')\n",
    "plt.plot(fpr9, tpr9, linestyle='--',color='violet', label='XGB')\n",
    "plt.plot(fpr10, tpr10, linestyle='--',color='firebrick', label='LGBM')\n",
    "plt.plot(p_fpr, p_tpr, linestyle='--', color='blue')\n",
    "# title\n",
    "plt.title('ROC curve')\n",
    "# x label\n",
    "plt.xlabel('False Positive Rate')\n",
    "# y label\n",
    "plt.ylabel('True Positive rate')\n",
    "\n",
    "plt.legend(loc='best')\n",
    "plt.savefig('ROC',dpi=300)\n",
    "plt.show();"
   ]
  },
  {
   "cell_type": "code",
   "execution_count": null,
   "metadata": {},
   "outputs": [
    {
     "name": "stdout",
     "output_type": "stream",
     "text": [
      "0.7308646661682852\n"
     ]
    }
   ],
   "source": [
    "print(max(auc_score1, auc_score2,auc_score3, auc_score4, auc_score5, auc_score6, auc_score7, auc_score8, auc_score9, auc_score10))"
   ]
  },
  {
   "cell_type": "markdown",
   "metadata": {},
   "source": [
    "CatBoost model AUC score is the maximum score so, I will consider catBoost as a best predictor between all the other 9 models "
   ]
  },
  {
   "cell_type": "code",
   "execution_count": null,
   "metadata": {},
   "outputs": [],
   "source": []
  },
  {
   "cell_type": "code",
   "execution_count": null,
   "metadata": {},
   "outputs": [],
   "source": []
  }
 ],
 "metadata": {
  "kernelspec": {
   "display_name": "Python 3",
   "language": "python",
   "name": "python3"
  },
  "language_info": {
   "codemirror_mode": {
    "name": "ipython",
    "version": 3
   },
   "file_extension": ".py",
   "mimetype": "text/x-python",
   "name": "python",
   "nbconvert_exporter": "python",
   "pygments_lexer": "ipython3",
   "version": "3.6.7"
  }
 },
 "nbformat": 4,
 "nbformat_minor": 4
}
