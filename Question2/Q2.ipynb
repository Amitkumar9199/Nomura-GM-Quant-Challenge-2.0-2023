{
 "cells": [
  {
   "cell_type": "code",
   "execution_count": 22,
   "id": "98d86ae8",
   "metadata": {},
   "outputs": [],
   "source": [
    "import pandas as pd\n",
    "import numpy as np"
   ]
  },
  {
   "cell_type": "code",
   "execution_count": 23,
   "id": "314673ed",
   "metadata": {},
   "outputs": [],
   "source": [
    "df = pd.read_csv(\"train_data.csv\")\n",
    "# if dataset has nan values then fill it with mean of that column\n",
    "df = df.fillna(df.mean())"
   ]
  },
  {
   "cell_type": "code",
   "execution_count": 24,
   "id": "a6bd0892",
   "metadata": {},
   "outputs": [
    {
     "data": {
      "text/html": [
       "<div>\n",
       "<style scoped>\n",
       "    .dataframe tbody tr th:only-of-type {\n",
       "        vertical-align: middle;\n",
       "    }\n",
       "\n",
       "    .dataframe tbody tr th {\n",
       "        vertical-align: top;\n",
       "    }\n",
       "\n",
       "    .dataframe thead th {\n",
       "        text-align: right;\n",
       "    }\n",
       "</style>\n",
       "<table border=\"1\" class=\"dataframe\">\n",
       "  <thead>\n",
       "    <tr style=\"text-align: right;\">\n",
       "      <th></th>\n",
       "      <th>open</th>\n",
       "      <th>high</th>\n",
       "      <th>low</th>\n",
       "      <th>close</th>\n",
       "      <th>return</th>\n",
       "      <th>volatility</th>\n",
       "      <th>volume</th>\n",
       "      <th>prev volume</th>\n",
       "      <th>next month return sign</th>\n",
       "    </tr>\n",
       "  </thead>\n",
       "  <tbody>\n",
       "    <tr>\n",
       "      <th>0</th>\n",
       "      <td>1</td>\n",
       "      <td>1.025595</td>\n",
       "      <td>1.000000</td>\n",
       "      <td>1.018723</td>\n",
       "      <td>0.036807</td>\n",
       "      <td>0.086790</td>\n",
       "      <td>4398500</td>\n",
       "      <td>4009100.0</td>\n",
       "      <td>1</td>\n",
       "    </tr>\n",
       "    <tr>\n",
       "      <th>1</th>\n",
       "      <td>1</td>\n",
       "      <td>1.066588</td>\n",
       "      <td>1.000000</td>\n",
       "      <td>1.066572</td>\n",
       "      <td>0.076164</td>\n",
       "      <td>0.141086</td>\n",
       "      <td>12077600</td>\n",
       "      <td>13004600.0</td>\n",
       "      <td>0</td>\n",
       "    </tr>\n",
       "    <tr>\n",
       "      <th>2</th>\n",
       "      <td>1</td>\n",
       "      <td>1.044670</td>\n",
       "      <td>0.972615</td>\n",
       "      <td>0.972615</td>\n",
       "      <td>-0.024128</td>\n",
       "      <td>0.162615</td>\n",
       "      <td>13119900</td>\n",
       "      <td>12077600.0</td>\n",
       "      <td>1</td>\n",
       "    </tr>\n",
       "    <tr>\n",
       "      <th>3</th>\n",
       "      <td>1</td>\n",
       "      <td>1.089809</td>\n",
       "      <td>1.000000</td>\n",
       "      <td>1.089809</td>\n",
       "      <td>0.094817</td>\n",
       "      <td>0.145533</td>\n",
       "      <td>3840600</td>\n",
       "      <td>4485900.0</td>\n",
       "      <td>0</td>\n",
       "    </tr>\n",
       "    <tr>\n",
       "      <th>4</th>\n",
       "      <td>1</td>\n",
       "      <td>1.032791</td>\n",
       "      <td>0.970420</td>\n",
       "      <td>0.995200</td>\n",
       "      <td>0.012631</td>\n",
       "      <td>0.199212</td>\n",
       "      <td>9886800</td>\n",
       "      <td>14313900.0</td>\n",
       "      <td>0</td>\n",
       "    </tr>\n",
       "  </tbody>\n",
       "</table>\n",
       "</div>"
      ],
      "text/plain": [
       "   open      high       low     close    return  volatility    volume  \\\n",
       "0     1  1.025595  1.000000  1.018723  0.036807    0.086790   4398500   \n",
       "1     1  1.066588  1.000000  1.066572  0.076164    0.141086  12077600   \n",
       "2     1  1.044670  0.972615  0.972615 -0.024128    0.162615  13119900   \n",
       "3     1  1.089809  1.000000  1.089809  0.094817    0.145533   3840600   \n",
       "4     1  1.032791  0.970420  0.995200  0.012631    0.199212   9886800   \n",
       "\n",
       "   prev volume  next month return sign  \n",
       "0    4009100.0                       1  \n",
       "1   13004600.0                       0  \n",
       "2   12077600.0                       1  \n",
       "3    4485900.0                       0  \n",
       "4   14313900.0                       0  "
      ]
     },
     "execution_count": 24,
     "metadata": {},
     "output_type": "execute_result"
    }
   ],
   "source": [
    "df.head(5)"
   ]
  },
  {
   "cell_type": "code",
   "execution_count": 25,
   "id": "895ac008",
   "metadata": {},
   "outputs": [
    {
     "data": {
      "text/html": [
       "<div>\n",
       "<style scoped>\n",
       "    .dataframe tbody tr th:only-of-type {\n",
       "        vertical-align: middle;\n",
       "    }\n",
       "\n",
       "    .dataframe tbody tr th {\n",
       "        vertical-align: top;\n",
       "    }\n",
       "\n",
       "    .dataframe thead th {\n",
       "        text-align: right;\n",
       "    }\n",
       "</style>\n",
       "<table border=\"1\" class=\"dataframe\">\n",
       "  <thead>\n",
       "    <tr style=\"text-align: right;\">\n",
       "      <th></th>\n",
       "      <th>return</th>\n",
       "      <th>volatility</th>\n",
       "      <th>next month return sign</th>\n",
       "      <th>diff_high_low</th>\n",
       "      <th>diff_open_close</th>\n",
       "      <th>ratio_currvol_prevvol</th>\n",
       "    </tr>\n",
       "  </thead>\n",
       "  <tbody>\n",
       "    <tr>\n",
       "      <th>0</th>\n",
       "      <td>0.036807</td>\n",
       "      <td>0.086790</td>\n",
       "      <td>1</td>\n",
       "      <td>0.025595</td>\n",
       "      <td>-0.018723</td>\n",
       "      <td>1.097129</td>\n",
       "    </tr>\n",
       "    <tr>\n",
       "      <th>1</th>\n",
       "      <td>0.076164</td>\n",
       "      <td>0.141086</td>\n",
       "      <td>0</td>\n",
       "      <td>0.066588</td>\n",
       "      <td>-0.066572</td>\n",
       "      <td>0.928718</td>\n",
       "    </tr>\n",
       "    <tr>\n",
       "      <th>2</th>\n",
       "      <td>-0.024128</td>\n",
       "      <td>0.162615</td>\n",
       "      <td>1</td>\n",
       "      <td>0.072055</td>\n",
       "      <td>0.027385</td>\n",
       "      <td>1.086300</td>\n",
       "    </tr>\n",
       "    <tr>\n",
       "      <th>3</th>\n",
       "      <td>0.094817</td>\n",
       "      <td>0.145533</td>\n",
       "      <td>0</td>\n",
       "      <td>0.089809</td>\n",
       "      <td>-0.089809</td>\n",
       "      <td>0.856149</td>\n",
       "    </tr>\n",
       "    <tr>\n",
       "      <th>4</th>\n",
       "      <td>0.012631</td>\n",
       "      <td>0.199212</td>\n",
       "      <td>0</td>\n",
       "      <td>0.062371</td>\n",
       "      <td>0.004800</td>\n",
       "      <td>0.690713</td>\n",
       "    </tr>\n",
       "  </tbody>\n",
       "</table>\n",
       "</div>"
      ],
      "text/plain": [
       "     return  volatility  next month return sign  diff_high_low  \\\n",
       "0  0.036807    0.086790                       1       0.025595   \n",
       "1  0.076164    0.141086                       0       0.066588   \n",
       "2 -0.024128    0.162615                       1       0.072055   \n",
       "3  0.094817    0.145533                       0       0.089809   \n",
       "4  0.012631    0.199212                       0       0.062371   \n",
       "\n",
       "   diff_open_close  ratio_currvol_prevvol  \n",
       "0        -0.018723               1.097129  \n",
       "1        -0.066572               0.928718  \n",
       "2         0.027385               1.086300  \n",
       "3        -0.089809               0.856149  \n",
       "4         0.004800               0.690713  "
      ]
     },
     "execution_count": 25,
     "metadata": {},
     "output_type": "execute_result"
    }
   ],
   "source": [
    "# make a column diff_high_low which is the difference between high and low\n",
    "df['diff_high_low'] = df['high'] - df['low']\n",
    "df['diff_open_close'] = df['open'] - df['close']\n",
    "df['ratio_currvol_prevvol']=df['volume']/df['prev volume']\n",
    "# drop columns high , low , open , close , volume , prev volume\n",
    "df.drop(['high','low','open','close','volume','prev volume'],axis=1,inplace=True)\n",
    "df.head(5)"
   ]
  },
  {
   "cell_type": "code",
   "execution_count": 26,
   "id": "86cb1032",
   "metadata": {},
   "outputs": [],
   "source": [
    "from sklearn.preprocessing import MinMaxScaler\n",
    "scaler = MinMaxScaler()\n",
    "df[['diff_high_low','diff_open_close','ratio_currvol_prevvol']] = scaler.fit_transform(df[['diff_high_low','diff_open_close','ratio_currvol_prevvol']])\n",
    "df[['return','volatility']] = scaler.fit_transform(df[['return','volatility']])\n",
    "import seaborn as sns"
   ]
  },
  {
   "cell_type": "code",
   "execution_count": 27,
   "id": "56edb51b",
   "metadata": {},
   "outputs": [
    {
     "data": {
      "text/plain": [
       "<AxesSubplot:>"
      ]
     },
     "execution_count": 27,
     "metadata": {},
     "output_type": "execute_result"
    },
    {
     "data": {
      "image/png": "[encoded data removed]",
      "text/plain": [
       "<Figure size 432x288 with 2 Axes>"
      ]
     },
     "metadata": {
      "needs_background": "light"
     },
     "output_type": "display_data"
    }
   ],
   "source": [
    "sns.heatmap(df.corr(), annot=True)"
   ]
  },
  {
   "cell_type": "code",
   "execution_count": null,
   "id": "83455c71",
   "metadata": {},
   "outputs": [],
   "source": []
  },
  {
   "cell_type": "code",
   "execution_count": null,
   "id": "c06878e7",
   "metadata": {},
   "outputs": [],
   "source": []
  },
  {
   "cell_type": "code",
   "execution_count": 28,
   "id": "05c84723",
   "metadata": {},
   "outputs": [],
   "source": [
    "X=df.drop(['next month return sign'],axis=1)\n",
    "y=df['next month return sign']\n",
    "\n",
    "X = scaler.fit_transform(X)"
   ]
  },
  {
   "cell_type": "code",
   "execution_count": 29,
   "id": "b96ba541",
   "metadata": {},
   "outputs": [],
   "source": [
    "from sklearn.model_selection import train_test_split\n",
    "X_train, X_test, y_train, y_test = train_test_split(X, y, test_size=0.33, random_state=42)"
   ]
  },
  {
   "cell_type": "code",
   "execution_count": 30,
   "id": "ae5ad674",
   "metadata": {},
   "outputs": [],
   "source": [
    "from sklearn.linear_model import LogisticRegression"
   ]
  },
  {
   "cell_type": "code",
   "execution_count": 31,
   "id": "68c72c0f",
   "metadata": {},
   "outputs": [
    {
     "name": "stdout",
     "output_type": "stream",
     "text": [
      "[[0.5595994  0.20820026 0.11070997 0.61483881 0.30394027]\n",
      " [0.48607515 0.0763214  0.03803584 0.67248919 0.5355056 ]\n",
      " [0.29965599 0.13555471 0.05393179 0.73046124 0.55043625]\n",
      " [0.37111221 0.34514804 0.22463416 0.76243754 0.1620286 ]\n",
      " [0.64417492 0.1146823  0.23814518 0.49540162 0.35634067]\n",
      " [0.1749732  0.42168161 0.29072173 0.85263459 0.55751821]\n",
      " [0.23578523 0.15465254 0.11545224 0.79896693 0.30491744]\n",
      " [0.13969378 0.21158333 0.1314834  0.87009817 0.44608112]\n",
      " [0.4550036  0.15526522 0.16564689 0.56716509 0.21517302]\n",
      " [0.51891192 0.2602146  0.29517682 0.59272208 0.39715861]\n",
      " [0.71280438 0.1632094  0.36111966 0.40272377 0.43978237]\n",
      " [0.65962681 0.22859763 0.33163943 0.50820053 0.32912026]\n",
      " [0.06469699 0.13677765 0.16685717 0.93904218 0.        ]\n",
      " [0.14239506 0.18498499 0.22520151 0.86618532 0.59979343]\n",
      " [0.38305498 0.24677528 0.19330523 0.67628838 0.20344141]\n",
      " [0.47226231 0.08895501 0.0929815  0.61785774 0.95113505]\n",
      " [0.68090672 0.24579273 0.44971617 0.4384223  1.        ]\n",
      " [0.62679606 0.51641537 0.27535507 0.67769438 0.52987954]\n",
      " [0.20271137 0.34774274 0.20768232 0.80659967 0.41775809]\n",
      " [0.14994536 0.18104029 0.12996668 0.82500398 0.36097024]\n",
      " [0.         0.46812013 0.38140463 1.         0.69580961]\n",
      " [0.36229278 0.30946107 0.1139363  0.75262531 0.56487319]\n",
      " [0.44839493 0.22791847 0.26035368 0.56998148 0.40829208]\n",
      " [0.13813626 0.22019282 0.29375167 0.92433923 0.29350884]]\n"
     ]
    }
   ],
   "source": [
    "logmodel = LogisticRegression()\n",
    "logmodel.fit(X_train,y_train)\n",
    "print(X_test)"
   ]
  },
  {
   "cell_type": "code",
   "execution_count": 32,
   "id": "85460147",
   "metadata": {},
   "outputs": [],
   "source": [
    "predictions = logmodel.predict(X_test)"
   ]
  },
  {
   "cell_type": "code",
   "execution_count": 33,
   "id": "92626039",
   "metadata": {},
   "outputs": [
    {
     "name": "stdout",
     "output_type": "stream",
     "text": [
      "              precision    recall  f1-score   support\n",
      "\n",
      "           0       0.35      0.89      0.50         9\n",
      "           1       0.00      0.00      0.00        15\n",
      "\n",
      "    accuracy                           0.33        24\n",
      "   macro avg       0.17      0.44      0.25        24\n",
      "weighted avg       0.13      0.33      0.19        24\n",
      "\n",
      "Accuracy  0.3333333333333333\n"
     ]
    }
   ],
   "source": [
    "from sklearn.metrics import classification_report , accuracy_score\n",
    "print(classification_report(y_test,predictions))\n",
    "print('Accuracy ',accuracy_score(y_test,predictions))"
   ]
  },
  {
   "cell_type": "code",
   "execution_count": 34,
   "id": "b58845d6",
   "metadata": {},
   "outputs": [
    {
     "name": "stdout",
     "output_type": "stream",
     "text": [
      "[[ 8  1]\n",
      " [15  0]]\n"
     ]
    }
   ],
   "source": [
    "from sklearn.metrics import confusion_matrix\n",
    "print(confusion_matrix(y_test, predictions))"
   ]
  },
  {
   "cell_type": "code",
   "execution_count": null,
   "id": "0d2477e2",
   "metadata": {},
   "outputs": [],
   "source": []
  },
  {
   "cell_type": "code",
   "execution_count": 35,
   "id": "8d46a260",
   "metadata": {},
   "outputs": [],
   "source": [
    "# Modelling\n",
    "from sklearn.ensemble import RandomForestClassifier\n",
    "from sklearn.metrics import accuracy_score, confusion_matrix, precision_score, recall_score, ConfusionMatrixDisplay\n",
    "from sklearn.model_selection import RandomizedSearchCV, train_test_split\n",
    "from scipy.stats import randint\n",
    "\n",
    "# Tree Visualisation\n",
    "from sklearn.tree import export_graphviz\n",
    "from IPython.display import Image\n",
    "import graphviz"
   ]
  },
  {
   "cell_type": "code",
   "execution_count": 36,
   "id": "093527d2",
   "metadata": {},
   "outputs": [],
   "source": [
    "\n",
    "X_train, X_test, y_train, y_test = train_test_split(X, y, test_size=0.3)"
   ]
  },
  {
   "cell_type": "code",
   "execution_count": 37,
   "id": "ec9c07da",
   "metadata": {},
   "outputs": [
    {
     "data": {
      "text/plain": [
       "RandomForestClassifier()"
      ]
     },
     "execution_count": 37,
     "metadata": {},
     "output_type": "execute_result"
    }
   ],
   "source": [
    "rf = RandomForestClassifier()\n",
    "rf.fit(X_train, y_train)"
   ]
  },
  {
   "cell_type": "code",
   "execution_count": 38,
   "id": "cb56505f",
   "metadata": {},
   "outputs": [
    {
     "name": "stdout",
     "output_type": "stream",
     "text": [
      "[[0.07838445 0.20823405 0.2105227  0.92597804 0.41185284]\n",
      " [0.37111221 0.34514804 0.22463416 0.76243754 0.1620286 ]\n",
      " [0.47853134 0.20904206 0.09649222 0.65163037 0.46541547]\n",
      " [0.38762732 0.30051171 0.25337346 0.67949312 0.74641816]\n",
      " [0.07892382 0.42643285 0.35908176 0.96003991 0.78141543]\n",
      " [0.67322643 0.20615511 0.24602662 0.48952028 0.38074335]\n",
      " [0.37923722 0.06669087 0.04457376 0.71668186 0.08442631]\n",
      " [0.47226231 0.08895501 0.0929815  0.61785774 0.95113505]\n",
      " [0.32079295 0.16770381 0.12786904 0.7481943  0.50415928]\n",
      " [1.         1.         1.         0.         0.07670467]\n",
      " [0.30532363 0.18955154 0.18480733 0.76892114 0.38597324]\n",
      " [0.         0.46812013 0.38140463 1.         0.69580961]\n",
      " [0.13813626 0.22019282 0.29375167 0.92433923 0.29350884]\n",
      " [0.36229278 0.30946107 0.1139363  0.75262531 0.56487319]\n",
      " [0.65962681 0.22859763 0.33163943 0.50820053 0.32912026]\n",
      " [0.71280438 0.1632094  0.36111966 0.40272377 0.43978237]\n",
      " [0.26177182 0.         0.00517496 0.78194073 0.24719405]\n",
      " [0.27875332 0.23121689 0.18976702 0.7735116  0.3843751 ]\n",
      " [0.35414842 0.03463032 0.00407573 0.70807946 0.28027618]\n",
      " [0.68090672 0.24579273 0.44971617 0.4384223  1.        ]\n",
      " [0.58239737 0.04293323 0.15291785 0.56030806 0.49129226]]\n"
     ]
    }
   ],
   "source": [
    "print(X_test)\n",
    "y_pred = rf.predict(X_test)"
   ]
  },
  {
   "cell_type": "code",
   "execution_count": 39,
   "id": "7246a298",
   "metadata": {},
   "outputs": [
    {
     "name": "stdout",
     "output_type": "stream",
     "text": [
      "Accuracy: 0.7142857142857143\n"
     ]
    }
   ],
   "source": [
    "accuracy = accuracy_score(y_test, y_pred)\n",
    "print(\"Accuracy:\", accuracy)"
   ]
  },
  {
   "cell_type": "code",
   "execution_count": 40,
   "id": "724a31a7",
   "metadata": {},
   "outputs": [
    {
     "name": "stdout",
     "output_type": "stream",
     "text": [
      "[[9 2]\n",
      " [4 6]]\n"
     ]
    }
   ],
   "source": [
    "from sklearn.metrics import confusion_matrix\n",
    "print(confusion_matrix(y_test, y_pred))"
   ]
  },
  {
   "cell_type": "code",
   "execution_count": 41,
   "id": "fd62d149",
   "metadata": {},
   "outputs": [],
   "source": [
    "from sklearn.ensemble import RandomForestRegressor\n",
    "regressor = RandomForestRegressor()"
   ]
  },
  {
   "cell_type": "code",
   "execution_count": 42,
   "id": "162e7dce",
   "metadata": {},
   "outputs": [
    {
     "name": "stdout",
     "output_type": "stream",
     "text": [
      "      return  volatility  diff_high_low  diff_open_close  \\\n",
      "0   0.659150    0.023378       0.074140         0.317206   \n",
      "1   0.555441    0.143284       0.151410         0.351834   \n",
      "2   0.881256    0.148411       0.263961         0.095546   \n",
      "3   0.692767    0.169293       0.114064         0.187983   \n",
      "4   0.674503    0.120790       0.047633         0.243509   \n",
      "5   0.666476    0.012099       0.042814         0.323295   \n",
      "6   0.800408    0.097268       0.095510         0.191885   \n",
      "7   0.942095    0.009554       0.191234         0.000000   \n",
      "8   0.740635    0.039599       0.078907         0.209179   \n",
      "9   0.705117    0.008450       0.000000         0.239076   \n",
      "10  0.694258    0.039765       0.019148         0.268350   \n",
      "11  0.000000    1.000000       1.000000         1.000000   \n",
      "12  0.702276    0.061895       0.044760         0.281961   \n",
      "13  0.755936    0.076857       0.055723         0.225543   \n",
      "14  0.793116    0.012655       0.039112         0.173158   \n",
      "15  0.724570    0.006855       0.050515         0.223778   \n",
      "16  0.852100    0.081989       0.153242         0.038846   \n",
      "17  0.816638    0.017343       0.069020         0.146057   \n",
      "18  0.821438    0.257949       0.205349         0.051756   \n",
      "19  0.833224    0.042273       0.093204         0.100235   \n",
      "20  0.799506    0.065290       0.151662         0.107588   \n",
      "21  0.827450    0.096241       0.171233         0.101564   \n",
      "22  0.554366    0.121347       0.198463         0.403128   \n",
      "23  0.687132    0.027818       0.076848         0.286696   \n",
      "24  0.526610    0.045908       0.172352         0.462132   \n",
      "25  0.579779    0.102929       0.174013         0.426190   \n",
      "26  1.000000    0.128100       0.168733         0.023006   \n",
      "27  0.740993    0.000000       0.023957         0.210932   \n",
      "28  0.582920    0.109164       0.141125         0.428760   \n",
      "29  0.684671    0.065472       0.078308         0.259203   \n",
      "\n",
      "    ratio_currvol_prevvol  \n",
      "0                0.238393  \n",
      "1                0.413218  \n",
      "2                0.288661  \n",
      "3                0.149642  \n",
      "4                0.320347  \n",
      "5                0.262238  \n",
      "6                0.167157  \n",
      "7                0.310863  \n",
      "8                0.224140  \n",
      "9                0.037918  \n",
      "10               0.024618  \n",
      "11               1.000000  \n",
      "12               0.365619  \n",
      "13               0.225782  \n",
      "14               0.308215  \n",
      "15               0.205524  \n",
      "16               0.000000  \n",
      "17               0.349290  \n",
      "18               0.305087  \n",
      "19               0.068597  \n",
      "20               0.424963  \n",
      "21               0.178074  \n",
      "22               0.147480  \n",
      "23               0.225930  \n",
      "24               0.568426  \n",
      "25               0.299359  \n",
      "26               0.190055  \n",
      "27               0.135629  \n",
      "28               0.074572  \n",
      "29               0.015273  \n"
     ]
    }
   ],
   "source": [
    "# read test file\n",
    "test_df = pd.read_csv(\"test_data.csv\")\n",
    "# if dataset has nan values then fill it with mean of that column\n",
    "test_df = test_df.fillna(test_df.mean())\n",
    "\n",
    "test_df.head(5)\n",
    "# make same transformations on test data\n",
    "test_df['diff_high_low'] = test_df['high'] - test_df['low']\n",
    "test_df['diff_open_close'] = test_df['open'] - test_df['close']\n",
    "test_df['ratio_currvol_prevvol']=test_df['volume']/test_df['prev volume']\n",
    "# drop columns high , low , open , close , volume , prev volume\n",
    "test_df.drop(['high','low','open','close','volume','prev volume'],axis=1,inplace=True)\n",
    "test_df.head(5)\n",
    "# make same transformations on test data\n",
    "test_df[['diff_high_low','diff_open_close','ratio_currvol_prevvol']] = scaler.fit_transform(test_df[['diff_high_low','diff_open_close','ratio_currvol_prevvol']])\n",
    "\n",
    "test_df[['return','volatility']] = scaler.fit_transform(test_df[['return','volatility']])\n",
    "test_df.head(5)\n",
    "# make predictions on test data\n",
    "test_predictions = rf.predict(test_df)\n",
    "# save predictions in a csv file\n",
    "final_predictions = pd.DataFrame(test_predictions)\n",
    "final_predictions.to_csv(\"predictions.csv\",index=False)\n",
    "print(test_df)"
   ]
  }
 ],
 "metadata": {
  "kernelspec": {
   "display_name": "Python 3 (ipykernel)",
   "language": "python",
   "name": "python3"
  },
  "language_info": {
   "codemirror_mode": {
    "name": "ipython",
    "version": 3
   },
   "file_extension": ".py",
   "mimetype": "text/x-python",
   "name": "python",
   "nbconvert_exporter": "python",
   "pygments_lexer": "ipython3",
   "version": "3.6.7"
  }
 },
 "nbformat": 4,
 "nbformat_minor": 5
}
