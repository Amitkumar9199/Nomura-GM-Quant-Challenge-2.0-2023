{
 "cells": [
  {
   "cell_type": "code",
   "execution_count": 1,
   "id": "98d86ae8",
   "metadata": {},
   "outputs": [],
   "source": [
    "import pandas as pd\n",
    "import numpy as np"
   ]
  },
  {
   "cell_type": "code",
   "execution_count": 2,
   "id": "314673ed",
   "metadata": {},
   "outputs": [],
   "source": [
    "df = pd.read_csv(\"train.csv\")\n",
    "# if dataset has nan values then fill it with mean of that column\n",
    "df = df.fillna(df.mean())"
   ]
  },
  {
   "cell_type": "code",
   "execution_count": 3,
   "id": "a6bd0892",
   "metadata": {},
   "outputs": [
    {
     "data": {
      "text/html": [
       "<div>\n",
       "<style scoped>\n",
       "    .dataframe tbody tr th:only-of-type {\n",
       "        vertical-align: middle;\n",
       "    }\n",
       "\n",
       "    .dataframe tbody tr th {\n",
       "        vertical-align: top;\n",
       "    }\n",
       "\n",
       "    .dataframe thead th {\n",
       "        text-align: right;\n",
       "    }\n",
       "</style>\n",
       "<table border=\"1\" class=\"dataframe\">\n",
       "  <thead>\n",
       "    <tr style=\"text-align: right;\">\n",
       "      <th></th>\n",
       "      <th>open</th>\n",
       "      <th>high</th>\n",
       "      <th>low</th>\n",
       "      <th>close</th>\n",
       "      <th>return</th>\n",
       "      <th>volatility</th>\n",
       "      <th>volume</th>\n",
       "      <th>prev volume</th>\n",
       "      <th>next month return sign</th>\n",
       "    </tr>\n",
       "  </thead>\n",
       "  <tbody>\n",
       "    <tr>\n",
       "      <th>0</th>\n",
       "      <td>1</td>\n",
       "      <td>1.025595</td>\n",
       "      <td>1.000000</td>\n",
       "      <td>1.018723</td>\n",
       "      <td>0.036807</td>\n",
       "      <td>0.086790</td>\n",
       "      <td>4398500</td>\n",
       "      <td>4009100.0</td>\n",
       "      <td>1</td>\n",
       "    </tr>\n",
       "    <tr>\n",
       "      <th>1</th>\n",
       "      <td>1</td>\n",
       "      <td>1.066588</td>\n",
       "      <td>1.000000</td>\n",
       "      <td>1.066572</td>\n",
       "      <td>0.076164</td>\n",
       "      <td>0.141086</td>\n",
       "      <td>12077600</td>\n",
       "      <td>13004600.0</td>\n",
       "      <td>0</td>\n",
       "    </tr>\n",
       "    <tr>\n",
       "      <th>2</th>\n",
       "      <td>1</td>\n",
       "      <td>1.044670</td>\n",
       "      <td>0.972615</td>\n",
       "      <td>0.972615</td>\n",
       "      <td>-0.024128</td>\n",
       "      <td>0.162615</td>\n",
       "      <td>13119900</td>\n",
       "      <td>12077600.0</td>\n",
       "      <td>1</td>\n",
       "    </tr>\n",
       "    <tr>\n",
       "      <th>3</th>\n",
       "      <td>1</td>\n",
       "      <td>1.089809</td>\n",
       "      <td>1.000000</td>\n",
       "      <td>1.089809</td>\n",
       "      <td>0.094817</td>\n",
       "      <td>0.145533</td>\n",
       "      <td>3840600</td>\n",
       "      <td>4485900.0</td>\n",
       "      <td>0</td>\n",
       "    </tr>\n",
       "    <tr>\n",
       "      <th>4</th>\n",
       "      <td>1</td>\n",
       "      <td>1.032791</td>\n",
       "      <td>0.970420</td>\n",
       "      <td>0.995200</td>\n",
       "      <td>0.012631</td>\n",
       "      <td>0.199212</td>\n",
       "      <td>9886800</td>\n",
       "      <td>14313900.0</td>\n",
       "      <td>0</td>\n",
       "    </tr>\n",
       "  </tbody>\n",
       "</table>\n",
       "</div>"
      ],
      "text/plain": [
       "   open      high       low     close    return  volatility    volume  \\\n",
       "0     1  1.025595  1.000000  1.018723  0.036807    0.086790   4398500   \n",
       "1     1  1.066588  1.000000  1.066572  0.076164    0.141086  12077600   \n",
       "2     1  1.044670  0.972615  0.972615 -0.024128    0.162615  13119900   \n",
       "3     1  1.089809  1.000000  1.089809  0.094817    0.145533   3840600   \n",
       "4     1  1.032791  0.970420  0.995200  0.012631    0.199212   9886800   \n",
       "\n",
       "   prev volume  next month return sign  \n",
       "0    4009100.0                       1  \n",
       "1   13004600.0                       0  \n",
       "2   12077600.0                       1  \n",
       "3    4485900.0                       0  \n",
       "4   14313900.0                       0  "
      ]
     },
     "execution_count": 3,
     "metadata": {},
     "output_type": "execute_result"
    }
   ],
   "source": [
    "df.head(5)"
   ]
  },
  {
   "cell_type": "code",
   "execution_count": 4,
   "id": "895ac008",
   "metadata": {},
   "outputs": [
    {
     "data": {
      "text/html": [
       "<div>\n",
       "<style scoped>\n",
       "    .dataframe tbody tr th:only-of-type {\n",
       "        vertical-align: middle;\n",
       "    }\n",
       "\n",
       "    .dataframe tbody tr th {\n",
       "        vertical-align: top;\n",
       "    }\n",
       "\n",
       "    .dataframe thead th {\n",
       "        text-align: right;\n",
       "    }\n",
       "</style>\n",
       "<table border=\"1\" class=\"dataframe\">\n",
       "  <thead>\n",
       "    <tr style=\"text-align: right;\">\n",
       "      <th></th>\n",
       "      <th>return</th>\n",
       "      <th>volatility</th>\n",
       "      <th>next month return sign</th>\n",
       "      <th>diff_high_low</th>\n",
       "      <th>diff_open_close</th>\n",
       "      <th>ratio_currvol_prevvol</th>\n",
       "      <th>ratio_diffhighclose_difflowclsoe</th>\n",
       "    </tr>\n",
       "  </thead>\n",
       "  <tbody>\n",
       "    <tr>\n",
       "      <th>0</th>\n",
       "      <td>0.036807</td>\n",
       "      <td>0.086790</td>\n",
       "      <td>1</td>\n",
       "      <td>0.025595</td>\n",
       "      <td>-0.018723</td>\n",
       "      <td>1.097129</td>\n",
       "      <td>-0.367038</td>\n",
       "    </tr>\n",
       "    <tr>\n",
       "      <th>1</th>\n",
       "      <td>0.076164</td>\n",
       "      <td>0.141086</td>\n",
       "      <td>0</td>\n",
       "      <td>0.066588</td>\n",
       "      <td>-0.066572</td>\n",
       "      <td>0.928718</td>\n",
       "      <td>-0.000229</td>\n",
       "    </tr>\n",
       "    <tr>\n",
       "      <th>2</th>\n",
       "      <td>-0.024128</td>\n",
       "      <td>0.162615</td>\n",
       "      <td>1</td>\n",
       "      <td>0.072055</td>\n",
       "      <td>0.027385</td>\n",
       "      <td>1.086300</td>\n",
       "      <td>-0.367038</td>\n",
       "    </tr>\n",
       "    <tr>\n",
       "      <th>3</th>\n",
       "      <td>0.094817</td>\n",
       "      <td>0.145533</td>\n",
       "      <td>0</td>\n",
       "      <td>0.089809</td>\n",
       "      <td>-0.089809</td>\n",
       "      <td>0.856149</td>\n",
       "      <td>-0.000000</td>\n",
       "    </tr>\n",
       "    <tr>\n",
       "      <th>4</th>\n",
       "      <td>0.012631</td>\n",
       "      <td>0.199212</td>\n",
       "      <td>0</td>\n",
       "      <td>0.062371</td>\n",
       "      <td>0.004800</td>\n",
       "      <td>0.690713</td>\n",
       "      <td>-1.516948</td>\n",
       "    </tr>\n",
       "    <tr>\n",
       "      <th>...</th>\n",
       "      <td>...</td>\n",
       "      <td>...</td>\n",
       "      <td>...</td>\n",
       "      <td>...</td>\n",
       "      <td>...</td>\n",
       "      <td>...</td>\n",
       "      <td>...</td>\n",
       "    </tr>\n",
       "    <tr>\n",
       "      <th>65</th>\n",
       "      <td>0.040757</td>\n",
       "      <td>0.197760</td>\n",
       "      <td>0</td>\n",
       "      <td>0.098465</td>\n",
       "      <td>-0.051716</td>\n",
       "      <td>1.416256</td>\n",
       "      <td>-0.020917</td>\n",
       "    </tr>\n",
       "    <tr>\n",
       "      <th>66</th>\n",
       "      <td>0.035221</td>\n",
       "      <td>0.142293</td>\n",
       "      <td>0</td>\n",
       "      <td>0.037116</td>\n",
       "      <td>-0.024178</td>\n",
       "      <td>1.020857</td>\n",
       "      <td>-0.441754</td>\n",
       "    </tr>\n",
       "    <tr>\n",
       "      <th>67</th>\n",
       "      <td>-0.051806</td>\n",
       "      <td>0.112072</td>\n",
       "      <td>0</td>\n",
       "      <td>0.050984</td>\n",
       "      <td>0.050984</td>\n",
       "      <td>0.514395</td>\n",
       "      <td>-0.367038</td>\n",
       "    </tr>\n",
       "    <tr>\n",
       "      <th>68</th>\n",
       "      <td>0.002049</td>\n",
       "      <td>0.125006</td>\n",
       "      <td>0</td>\n",
       "      <td>0.043300</td>\n",
       "      <td>0.001075</td>\n",
       "      <td>1.063018</td>\n",
       "      <td>-0.025453</td>\n",
       "    </tr>\n",
       "    <tr>\n",
       "      <th>69</th>\n",
       "      <td>-0.006792</td>\n",
       "      <td>0.151567</td>\n",
       "      <td>1</td>\n",
       "      <td>0.055500</td>\n",
       "      <td>0.007696</td>\n",
       "      <td>0.932670</td>\n",
       "      <td>-0.160983</td>\n",
       "    </tr>\n",
       "  </tbody>\n",
       "</table>\n",
       "<p>70 rows × 7 columns</p>\n",
       "</div>"
      ],
      "text/plain": [
       "      return  volatility  next month return sign  diff_high_low  \\\n",
       "0   0.036807    0.086790                       1       0.025595   \n",
       "1   0.076164    0.141086                       0       0.066588   \n",
       "2  -0.024128    0.162615                       1       0.072055   \n",
       "3   0.094817    0.145533                       0       0.089809   \n",
       "4   0.012631    0.199212                       0       0.062371   \n",
       "..       ...         ...                     ...            ...   \n",
       "65  0.040757    0.197760                       0       0.098465   \n",
       "66  0.035221    0.142293                       0       0.037116   \n",
       "67 -0.051806    0.112072                       0       0.050984   \n",
       "68  0.002049    0.125006                       0       0.043300   \n",
       "69 -0.006792    0.151567                       1       0.055500   \n",
       "\n",
       "    diff_open_close  ratio_currvol_prevvol  ratio_diffhighclose_difflowclsoe  \n",
       "0         -0.018723               1.097129                         -0.367038  \n",
       "1         -0.066572               0.928718                         -0.000229  \n",
       "2          0.027385               1.086300                         -0.367038  \n",
       "3         -0.089809               0.856149                         -0.000000  \n",
       "4          0.004800               0.690713                         -1.516948  \n",
       "..              ...                    ...                               ...  \n",
       "65        -0.051716               1.416256                         -0.020917  \n",
       "66        -0.024178               1.020857                         -0.441754  \n",
       "67         0.050984               0.514395                         -0.367038  \n",
       "68         0.001075               1.063018                         -0.025453  \n",
       "69         0.007696               0.932670                         -0.160983  \n",
       "\n",
       "[70 rows x 7 columns]"
      ]
     },
     "execution_count": 4,
     "metadata": {},
     "output_type": "execute_result"
    }
   ],
   "source": [
    "# make a column diff_high_low which is the difference between high and low\n",
    "df['diff_high_low'] = df['high'] - df['low']\n",
    "df['diff_open_close'] = df['open'] - df['close']\n",
    "df['ratio_currvol_prevvol']=df['volume']/df['prev volume']\n",
    "df['ratio_diffhighclose_difflowclsoe']=(df['high']-df['close'])/(df['low']-df['close'])\n",
    "df['ratio_diffhighclose_difflowclsoe'].replace(np.inf, np.nan, inplace=True)\n",
    "df['ratio_diffhighclose_difflowclsoe'].replace(-np.inf, np.nan, inplace=True)\n",
    "df['ratio_diffhighclose_difflowclsoe'].fillna(df['ratio_diffhighclose_difflowclsoe'].median(), inplace=True)\n",
    "\n",
    "# df['diff_high_close'].fillna(df['diff_high_close'].mean(), inplace=True)\n",
    "# drop columns high , low , open , close , volume , prev volume\n",
    "df.drop(['high','low','open','close','volume','prev volume'],axis=1,inplace=True)\n",
    "df.head(70)"
   ]
  },
  {
   "cell_type": "code",
   "execution_count": 3,
   "id": "56edb51b",
   "metadata": {},
   "outputs": [
    {
     "data": {
      "text/plain": [
       "<AxesSubplot:>"
      ]
     },
     "execution_count": 3,
     "metadata": {},
     "output_type": "execute_result"
    },
    {
     "data": {
      "image/png": "[encoded data removed]",
      "text/plain": [
       "<Figure size 432x288 with 2 Axes>"
      ]
     },
     "metadata": {
      "needs_background": "light"
     },
     "output_type": "display_data"
    }
   ],
   "source": [
    "from sklearn.preprocessing import MinMaxScaler\n",
    "scaler = MinMaxScaler()\n",
    "import seaborn as sns\n",
    "sns.heatmap(df.corr(), annot=True)"
   ]
  },
  {
   "cell_type": "code",
   "execution_count": 6,
   "id": "05c84723",
   "metadata": {},
   "outputs": [],
   "source": [
    "X=df[['ratio_diffhighclose_difflowclsoe','return','volatility','diff_high_low','diff_open_close','ratio_currvol_prevvol']]\n",
    "y=df['next month return sign']\n",
    "# X = scaler.fit_transform(X)"
   ]
  },
  {
   "cell_type": "code",
   "execution_count": 7,
   "id": "b96ba541",
   "metadata": {},
   "outputs": [],
   "source": [
    "from sklearn.model_selection import train_test_split\n",
    "X_train, X_test, y_train, y_test = train_test_split(X, y, test_size=0.33, random_state=42)"
   ]
  },
  {
   "cell_type": "code",
   "execution_count": null,
   "id": "0d2477e2",
   "metadata": {},
   "outputs": [],
   "source": []
  },
  {
   "cell_type": "code",
   "execution_count": 8,
   "id": "8d46a260",
   "metadata": {},
   "outputs": [],
   "source": [
    "# Modelling\n",
    "from sklearn.ensemble import RandomForestClassifier, \n",
    "from sklearn.metrics import accuracy_score, confusion_matrix, precision_score, recall_score, ConfusionMatrixDisplay\n",
    "from sklearn.model_selection import RandomizedSearchCV, train_test_split\n",
    "from scipy.stats import randint\n"
   ]
  },
  {
   "cell_type": "code",
   "execution_count": 9,
   "id": "093527d2",
   "metadata": {},
   "outputs": [],
   "source": [
    "\n",
    "X_train, X_test, y_train, y_test = train_test_split(X, y, test_size=0.30)"
   ]
  },
  {
   "cell_type": "code",
   "execution_count": 10,
   "id": "ec9c07da",
   "metadata": {},
   "outputs": [
    {
     "name": "stderr",
     "output_type": "stream",
     "text": [
      "b:\\Downloads\\2023\\nqc\\lib\\site-packages\\pandas\\core\\series.py:4536: SettingWithCopyWarning: \n",
      "A value is trying to be set on a copy of a slice from a DataFrame\n",
      "\n",
      "See the caveats in the documentation: https://pandas.pydata.org/pandas-docs/stable/user_guide/indexing.html#returning-a-view-versus-a-copy\n",
      "  downcast=downcast,\n"
     ]
    },
    {
     "data": {
      "text/plain": [
       "RandomForestClassifier()"
      ]
     },
     "execution_count": 10,
     "metadata": {},
     "output_type": "execute_result"
    }
   ],
   "source": [
    "rf = RandomForestClassifier()\n",
    "# rf.fit(X, y)\n",
    "X_train.fillna(X_train.mean(), inplace=True)\n",
    "rf.fit(X_train, y_train)"
   ]
  },
  {
   "cell_type": "code",
   "execution_count": 11,
   "id": "cb56505f",
   "metadata": {},
   "outputs": [
    {
     "name": "stdout",
     "output_type": "stream",
     "text": [
      "    ratio_diffhighclose_difflowclsoe    return  volatility  diff_high_low  \\\n",
      "3                          -0.000000  0.094817    0.145533       0.089809   \n",
      "22                         -0.181032  0.052269    0.141941       0.039918   \n",
      "1                          -0.000229  0.076164    0.141086       0.066588   \n",
      "57                         -0.383036 -0.022783    0.200297       0.059030   \n",
      "65                         -0.020917  0.040757    0.197760       0.098465   \n",
      "32                         -4.069981  0.000257    0.168563       0.068431   \n",
      "56                         -0.088169  0.041821    0.093432       0.041197   \n",
      "4                          -1.516948  0.012631    0.199212       0.062371   \n",
      "12                         -0.000000  0.043712    0.163693       0.076274   \n",
      "63                         -0.367038 -0.016133    0.163093       0.056926   \n",
      "45                         -0.000000  0.030273    0.119804       0.050746   \n",
      "43                         -0.133089  0.028445    0.086449       0.043521   \n",
      "48                         -0.000000  0.060431    0.090269       0.059828   \n",
      "27                         -0.066318  0.108938    0.142650       0.118775   \n",
      "51                         -0.788173 -0.002481    0.209532       0.040256   \n",
      "7                          -0.363139  0.021214    0.133718       0.036162   \n",
      "17                        -17.152911 -0.019466    0.130903       0.041170   \n",
      "52                         -0.000000  0.144882    0.473070       0.215186   \n",
      "54                         -0.000000  0.070054    0.102832       0.065034   \n",
      "25                         -0.000000  0.066422    0.111197       0.077594   \n",
      "38                         -1.007498  0.009064    0.069355       0.018902   \n",
      "\n",
      "    diff_open_close  ratio_currvol_prevvol  \n",
      "3         -0.089809               0.856149  \n",
      "22        -0.033800               0.845141  \n",
      "1         -0.066572               0.928718  \n",
      "57         0.016349               0.968997  \n",
      "65        -0.051716               1.416256  \n",
      "32         0.016218               0.988399  \n",
      "56        -0.037240               0.792107  \n",
      "4          0.004800               0.690713  \n",
      "12        -0.039584               0.946581  \n",
      "63         0.026590               1.180367  \n",
      "45        -0.046267               0.748545  \n",
      "43        -0.029464               1.059051  \n",
      "48        -0.051661               1.025130  \n",
      "27        -0.111388               1.120845  \n",
      "51         0.015891               0.945169  \n",
      "7         -0.013855               1.202221  \n",
      "17         0.018633               1.019419  \n",
      "52        -0.194589               0.597864  \n",
      "54        -0.065034               0.902163  \n",
      "25        -0.077594               1.433375  \n",
      "38        -0.009416               0.819390  \n"
     ]
    }
   ],
   "source": [
    "print(X_test)\n",
    "y_pred = rf.predict(X_test)"
   ]
  },
  {
   "cell_type": "code",
   "execution_count": 12,
   "id": "7246a298",
   "metadata": {},
   "outputs": [
    {
     "name": "stdout",
     "output_type": "stream",
     "text": [
      "Accuracy: 0.42857142857142855\n"
     ]
    }
   ],
   "source": [
    "accuracy = accuracy_score(y_test, y_pred)\n",
    "print(\"Accuracy:\", accuracy)"
   ]
  },
  {
   "cell_type": "code",
   "execution_count": 13,
   "id": "724a31a7",
   "metadata": {},
   "outputs": [
    {
     "name": "stdout",
     "output_type": "stream",
     "text": [
      "[[3 8]\n",
      " [4 6]]\n"
     ]
    }
   ],
   "source": [
    "from sklearn.metrics import confusion_matrix\n",
    "print(confusion_matrix(y_test, y_pred))"
   ]
  },
  {
   "cell_type": "code",
   "execution_count": 14,
   "id": "162e7dce",
   "metadata": {},
   "outputs": [
    {
     "name": "stdout",
     "output_type": "stream",
     "text": [
      "    ratio_diffhighclose_difflowclsoe    return  volatility  diff_high_low  \\\n",
      "0                          -6.896929 -0.012715    0.100676       0.041842   \n",
      "1                          -0.794246 -0.048085    0.185009       0.066035   \n",
      "2                          -0.202956  0.063034    0.188616       0.101275   \n",
      "3                          -0.084594 -0.001250    0.203302       0.054342   \n",
      "4                          -0.306493 -0.007479    0.169189       0.033543   \n",
      "5                          -2.082490 -0.010216    0.092743       0.032034   \n",
      "6                          -1.457747  0.035461    0.152645       0.048533   \n",
      "7                          -0.000000  0.083783    0.090953       0.078504   \n",
      "8                          -1.998700  0.015075    0.112085       0.043335   \n",
      "9                          -1.230623  0.002962    0.090177       0.018629   \n",
      "10                         -6.843566 -0.000741    0.112201       0.024624   \n",
      "11                         -2.739797 -0.237518    0.787565       0.331728   \n",
      "12                         -3.949032  0.001993    0.127766       0.032643   \n",
      "13                         -0.492660  0.020294    0.138289       0.036076   \n",
      "14                         -0.000000  0.032974    0.093134       0.030875   \n",
      "15                         -0.331620  0.009596    0.089054       0.034445   \n",
      "16                         -0.000000  0.053091    0.141899       0.066609   \n",
      "17                         -0.000000  0.040996    0.096431       0.040239   \n",
      "18                         -0.163386  0.042633    0.265657       0.082924   \n",
      "19                         -0.000000  0.046653    0.113965       0.047811   \n",
      "20                         -0.000000  0.035153    0.130154       0.066114   \n",
      "21                         -0.000000  0.044684    0.151923       0.072242   \n",
      "22                         -1.741654 -0.048452    0.169581       0.080767   \n",
      "23                         -1.471697 -0.003172    0.103798       0.042690   \n",
      "24                        -25.422085 -0.057918    0.116522       0.072592   \n",
      "25                         -3.377348 -0.039784    0.156627       0.073112   \n",
      "26                         -0.000000  0.103532    0.174330       0.071459   \n",
      "27                         -0.441098  0.015198    0.084233       0.026130   \n",
      "28                         -0.441098 -0.038713    0.161012       0.062815   \n",
      "29                         -0.273645 -0.004011    0.130282       0.043147   \n",
      "\n",
      "    diff_open_close  ratio_currvol_prevvol  \n",
      "0          0.018628               0.999352  \n",
      "1          0.029231               1.249455  \n",
      "2         -0.049247               1.071265  \n",
      "3         -0.020942               0.872385  \n",
      "4         -0.003939               1.116594  \n",
      "5          0.020492               1.033464  \n",
      "6         -0.019747               0.897443  \n",
      "7         -0.078504               1.103026  \n",
      "8         -0.014451               0.978961  \n",
      "9         -0.005297               0.712555  \n",
      "10         0.003668               0.693527  \n",
      "11         0.227707               2.088898  \n",
      "12         0.007835               1.181360  \n",
      "13        -0.009440               0.981311  \n",
      "14        -0.025481               1.099238  \n",
      "15        -0.009981               0.952330  \n",
      "16        -0.066609               0.658310  \n",
      "17        -0.033780               1.157999  \n",
      "18        -0.062656               1.094763  \n",
      "19        -0.047811               0.756443  \n",
      "20        -0.045559               1.266257  \n",
      "21        -0.047404               0.913060  \n",
      "22         0.044938               0.869293  \n",
      "23         0.009285               0.981523  \n",
      "24         0.063006               1.471494  \n",
      "25         0.052000               1.086569  \n",
      "26        -0.071459               0.930200  \n",
      "27        -0.013914               0.852338  \n",
      "28         0.052787               0.764991  \n",
      "29         0.000867               0.680159  \n"
     ]
    }
   ],
   "source": [
    "# read test file\n",
    "test_df = pd.read_csv(\"test.csv\")\n",
    "# if dataset has nan values then fill it with mean of that column\n",
    "test_df = test_df.fillna(test_df.mean())\n",
    "\n",
    "# make same transformations on test data\n",
    "test_df['diff_high_low'] = test_df['high'] - test_df['low']\n",
    "test_df['diff_open_close'] = test_df['open'] - test_df['close']\n",
    "test_df['ratio_currvol_prevvol']=test_df['volume']/test_df['prev volume']\n",
    "test_df['ratio_diffhighclose_difflowclsoe']=(test_df['high']-test_df['close'])/(test_df['low']-test_df['close'])\n",
    "test_df['ratio_diffhighclose_difflowclsoe'].replace(np.inf, np.nan, inplace=True)\n",
    "test_df['ratio_diffhighclose_difflowclsoe'].replace(-np.inf, np.nan, inplace=True)\n",
    "test_df['ratio_diffhighclose_difflowclsoe'].fillna(test_df['ratio_diffhighclose_difflowclsoe'].median(), inplace=True)\n",
    "\n",
    "\n",
    "# drop columns high , low , open , close , volume , prev volume\n",
    "test_df.drop(['high','low','open','close','volume','prev volume'],axis=1,inplace=True)\n",
    "\n",
    "# make same transformations on test data\n",
    "test_df=test_df[['ratio_diffhighclose_difflowclsoe','return','volatility','diff_high_low','diff_open_close','ratio_currvol_prevvol']]\n",
    "# make predictions on test data\n",
    "# test_df=scaler.fit_transform(test_df)\n",
    "test_predictions = rf.predict(test_df)\n",
    "# save predictions in a csv file\n",
    "final_predictions = pd.DataFrame(test_predictions)\n",
    "final_predictions.to_csv(\"predictions.csv\",index=False,header=False)\n",
    "print(test_df)"
   ]
  }
 ],
 "metadata": {
  "kernelspec": {
   "display_name": "Python 3 (ipykernel)",
   "language": "python",
   "name": "python3"
  },
  "language_info": {
   "codemirror_mode": {
    "name": "ipython",
    "version": 3
   },
   "file_extension": ".py",
   "mimetype": "text/x-python",
   "name": "python",
   "nbconvert_exporter": "python",
   "pygments_lexer": "ipython3",
   "version": "3.6.7"
  }
 },
 "nbformat": 4,
 "nbformat_minor": 5
}
